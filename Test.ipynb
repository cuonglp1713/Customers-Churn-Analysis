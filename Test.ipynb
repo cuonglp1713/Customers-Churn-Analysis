{
 "cells": [
  {
   "cell_type": "code",
   "execution_count": 1,
   "id": "d0d8bf14",
   "metadata": {},
   "outputs": [],
   "source": [
    "import numpy as np\n",
    "import pandas as pd\n",
    "import matplotlib.pyplot as plt\n",
    "import seaborn as sns\n",
    "%matplotlib inline\n",
    "\n",
    "from sklearn.model_selection import train_test_split\n",
    "from sklearn.linear_model import LogisticRegression\n",
    "from sklearn.ensemble import RandomForestClassifier\n",
    "from sklearn.ensemble import GradientBoostingClassifier\n",
    "from xgboost import XGBClassifier\n",
    "\n",
    "from sklearn.metrics import classification_report, confusion_matrix\n",
    "from sklearn.preprocessing import MinMaxScaler\n",
    "\n",
    "from imblearn.under_sampling import NearMiss\n",
    "from imblearn.over_sampling import SMOTE, RandomOverSampler"
   ]
  },
  {
   "cell_type": "code",
   "execution_count": 2,
   "id": "ecd42227",
   "metadata": {},
   "outputs": [
    {
     "data": {
      "text/html": [
       "<div>\n",
       "<style scoped>\n",
       "    .dataframe tbody tr th:only-of-type {\n",
       "        vertical-align: middle;\n",
       "    }\n",
       "\n",
       "    .dataframe tbody tr th {\n",
       "        vertical-align: top;\n",
       "    }\n",
       "\n",
       "    .dataframe thead th {\n",
       "        text-align: right;\n",
       "    }\n",
       "</style>\n",
       "<table border=\"1\" class=\"dataframe\">\n",
       "  <thead>\n",
       "    <tr style=\"text-align: right;\">\n",
       "      <th></th>\n",
       "      <th>customerID</th>\n",
       "      <th>gender</th>\n",
       "      <th>SeniorCitizen</th>\n",
       "      <th>Partner</th>\n",
       "      <th>Dependents</th>\n",
       "      <th>tenure</th>\n",
       "      <th>PhoneService</th>\n",
       "      <th>MultipleLines</th>\n",
       "      <th>InternetService</th>\n",
       "      <th>OnlineSecurity</th>\n",
       "      <th>...</th>\n",
       "      <th>DeviceProtection</th>\n",
       "      <th>TechSupport</th>\n",
       "      <th>StreamingTV</th>\n",
       "      <th>StreamingMovies</th>\n",
       "      <th>Contract</th>\n",
       "      <th>PaperlessBilling</th>\n",
       "      <th>PaymentMethod</th>\n",
       "      <th>MonthlyCharges</th>\n",
       "      <th>TotalCharges</th>\n",
       "      <th>Churn</th>\n",
       "    </tr>\n",
       "  </thead>\n",
       "  <tbody>\n",
       "    <tr>\n",
       "      <th>0</th>\n",
       "      <td>7590-VHVEG</td>\n",
       "      <td>Female</td>\n",
       "      <td>0</td>\n",
       "      <td>Yes</td>\n",
       "      <td>No</td>\n",
       "      <td>1</td>\n",
       "      <td>No</td>\n",
       "      <td>No phone service</td>\n",
       "      <td>DSL</td>\n",
       "      <td>No</td>\n",
       "      <td>...</td>\n",
       "      <td>No</td>\n",
       "      <td>No</td>\n",
       "      <td>No</td>\n",
       "      <td>No</td>\n",
       "      <td>Month-to-month</td>\n",
       "      <td>Yes</td>\n",
       "      <td>Electronic check</td>\n",
       "      <td>29.85</td>\n",
       "      <td>29.85</td>\n",
       "      <td>No</td>\n",
       "    </tr>\n",
       "    <tr>\n",
       "      <th>1</th>\n",
       "      <td>5575-GNVDE</td>\n",
       "      <td>Male</td>\n",
       "      <td>0</td>\n",
       "      <td>No</td>\n",
       "      <td>No</td>\n",
       "      <td>34</td>\n",
       "      <td>Yes</td>\n",
       "      <td>No</td>\n",
       "      <td>DSL</td>\n",
       "      <td>Yes</td>\n",
       "      <td>...</td>\n",
       "      <td>Yes</td>\n",
       "      <td>No</td>\n",
       "      <td>No</td>\n",
       "      <td>No</td>\n",
       "      <td>One year</td>\n",
       "      <td>No</td>\n",
       "      <td>Mailed check</td>\n",
       "      <td>56.95</td>\n",
       "      <td>1889.5</td>\n",
       "      <td>No</td>\n",
       "    </tr>\n",
       "    <tr>\n",
       "      <th>2</th>\n",
       "      <td>3668-QPYBK</td>\n",
       "      <td>Male</td>\n",
       "      <td>0</td>\n",
       "      <td>No</td>\n",
       "      <td>No</td>\n",
       "      <td>2</td>\n",
       "      <td>Yes</td>\n",
       "      <td>No</td>\n",
       "      <td>DSL</td>\n",
       "      <td>Yes</td>\n",
       "      <td>...</td>\n",
       "      <td>No</td>\n",
       "      <td>No</td>\n",
       "      <td>No</td>\n",
       "      <td>No</td>\n",
       "      <td>Month-to-month</td>\n",
       "      <td>Yes</td>\n",
       "      <td>Mailed check</td>\n",
       "      <td>53.85</td>\n",
       "      <td>108.15</td>\n",
       "      <td>Yes</td>\n",
       "    </tr>\n",
       "    <tr>\n",
       "      <th>3</th>\n",
       "      <td>7795-CFOCW</td>\n",
       "      <td>Male</td>\n",
       "      <td>0</td>\n",
       "      <td>No</td>\n",
       "      <td>No</td>\n",
       "      <td>45</td>\n",
       "      <td>No</td>\n",
       "      <td>No phone service</td>\n",
       "      <td>DSL</td>\n",
       "      <td>Yes</td>\n",
       "      <td>...</td>\n",
       "      <td>Yes</td>\n",
       "      <td>Yes</td>\n",
       "      <td>No</td>\n",
       "      <td>No</td>\n",
       "      <td>One year</td>\n",
       "      <td>No</td>\n",
       "      <td>Bank transfer (automatic)</td>\n",
       "      <td>42.30</td>\n",
       "      <td>1840.75</td>\n",
       "      <td>No</td>\n",
       "    </tr>\n",
       "    <tr>\n",
       "      <th>4</th>\n",
       "      <td>9237-HQITU</td>\n",
       "      <td>Female</td>\n",
       "      <td>0</td>\n",
       "      <td>No</td>\n",
       "      <td>No</td>\n",
       "      <td>2</td>\n",
       "      <td>Yes</td>\n",
       "      <td>No</td>\n",
       "      <td>Fiber optic</td>\n",
       "      <td>No</td>\n",
       "      <td>...</td>\n",
       "      <td>No</td>\n",
       "      <td>No</td>\n",
       "      <td>No</td>\n",
       "      <td>No</td>\n",
       "      <td>Month-to-month</td>\n",
       "      <td>Yes</td>\n",
       "      <td>Electronic check</td>\n",
       "      <td>70.70</td>\n",
       "      <td>151.65</td>\n",
       "      <td>Yes</td>\n",
       "    </tr>\n",
       "  </tbody>\n",
       "</table>\n",
       "<p>5 rows × 21 columns</p>\n",
       "</div>"
      ],
      "text/plain": [
       "   customerID  gender  SeniorCitizen Partner Dependents  tenure PhoneService  \\\n",
       "0  7590-VHVEG  Female              0     Yes         No       1           No   \n",
       "1  5575-GNVDE    Male              0      No         No      34          Yes   \n",
       "2  3668-QPYBK    Male              0      No         No       2          Yes   \n",
       "3  7795-CFOCW    Male              0      No         No      45           No   \n",
       "4  9237-HQITU  Female              0      No         No       2          Yes   \n",
       "\n",
       "      MultipleLines InternetService OnlineSecurity  ... DeviceProtection  \\\n",
       "0  No phone service             DSL             No  ...               No   \n",
       "1                No             DSL            Yes  ...              Yes   \n",
       "2                No             DSL            Yes  ...               No   \n",
       "3  No phone service             DSL            Yes  ...              Yes   \n",
       "4                No     Fiber optic             No  ...               No   \n",
       "\n",
       "  TechSupport StreamingTV StreamingMovies        Contract PaperlessBilling  \\\n",
       "0          No          No              No  Month-to-month              Yes   \n",
       "1          No          No              No        One year               No   \n",
       "2          No          No              No  Month-to-month              Yes   \n",
       "3         Yes          No              No        One year               No   \n",
       "4          No          No              No  Month-to-month              Yes   \n",
       "\n",
       "               PaymentMethod MonthlyCharges  TotalCharges Churn  \n",
       "0           Electronic check          29.85         29.85    No  \n",
       "1               Mailed check          56.95        1889.5    No  \n",
       "2               Mailed check          53.85        108.15   Yes  \n",
       "3  Bank transfer (automatic)          42.30       1840.75    No  \n",
       "4           Electronic check          70.70        151.65   Yes  \n",
       "\n",
       "[5 rows x 21 columns]"
      ]
     },
     "execution_count": 2,
     "metadata": {},
     "output_type": "execute_result"
    }
   ],
   "source": [
    "raw_data = pd.read_csv('VDT2022_Telco_Customer_Churn_Dataset.csv')\n",
    "raw_data.head()"
   ]
  },
  {
   "cell_type": "code",
   "execution_count": 3,
   "id": "eae3f569",
   "metadata": {},
   "outputs": [
    {
     "data": {
      "text/plain": [
       "(7043, 21)"
      ]
     },
     "execution_count": 3,
     "metadata": {},
     "output_type": "execute_result"
    }
   ],
   "source": [
    "raw_data.shape"
   ]
  },
  {
   "cell_type": "code",
   "execution_count": 4,
   "id": "8db1db2c",
   "metadata": {},
   "outputs": [
    {
     "name": "stdout",
     "output_type": "stream",
     "text": [
      "<class 'pandas.core.frame.DataFrame'>\n",
      "RangeIndex: 7043 entries, 0 to 7042\n",
      "Data columns (total 21 columns):\n",
      " #   Column            Non-Null Count  Dtype  \n",
      "---  ------            --------------  -----  \n",
      " 0   customerID        7043 non-null   object \n",
      " 1   gender            7043 non-null   object \n",
      " 2   SeniorCitizen     7043 non-null   int64  \n",
      " 3   Partner           7043 non-null   object \n",
      " 4   Dependents        7043 non-null   object \n",
      " 5   tenure            7043 non-null   int64  \n",
      " 6   PhoneService      7043 non-null   object \n",
      " 7   MultipleLines     7043 non-null   object \n",
      " 8   InternetService   7043 non-null   object \n",
      " 9   OnlineSecurity    7043 non-null   object \n",
      " 10  OnlineBackup      7043 non-null   object \n",
      " 11  DeviceProtection  7043 non-null   object \n",
      " 12  TechSupport       7043 non-null   object \n",
      " 13  StreamingTV       7043 non-null   object \n",
      " 14  StreamingMovies   7043 non-null   object \n",
      " 15  Contract          7043 non-null   object \n",
      " 16  PaperlessBilling  7043 non-null   object \n",
      " 17  PaymentMethod     7043 non-null   object \n",
      " 18  MonthlyCharges    7043 non-null   float64\n",
      " 19  TotalCharges      7043 non-null   object \n",
      " 20  Churn             7043 non-null   object \n",
      "dtypes: float64(1), int64(2), object(18)\n",
      "memory usage: 1.1+ MB\n"
     ]
    }
   ],
   "source": [
    "raw_data.info()"
   ]
  },
  {
   "cell_type": "markdown",
   "id": "97d1ec37",
   "metadata": {},
   "source": [
    "Hãy làm sạch dữ liệu 1 chút\n",
    "- `SeniorCitizen` sẽ là object vì feature này cho biết khách hàng thuộc 2 nhóm đối tượng: lớn tuổi (>= 62t) và không\n",
    "- `TotalCharges` sẽ là float64 thì feature này cho biết tổng doanh thu do 1 khách hàng tạo ra từ trước đến giờ"
   ]
  },
  {
   "cell_type": "code",
   "execution_count": 5,
   "id": "c885df23",
   "metadata": {},
   "outputs": [],
   "source": [
    "raw_data['SeniorCitizen'] = raw_data['SeniorCitizen'].astype('object')\n",
    "raw_data['TotalCharges'] = pd.to_numeric(raw_data['TotalCharges'], errors='coerce')"
   ]
  },
  {
   "cell_type": "code",
   "execution_count": 6,
   "id": "f268394c",
   "metadata": {},
   "outputs": [
    {
     "name": "stdout",
     "output_type": "stream",
     "text": [
      "<class 'pandas.core.frame.DataFrame'>\n",
      "RangeIndex: 7043 entries, 0 to 7042\n",
      "Data columns (total 21 columns):\n",
      " #   Column            Non-Null Count  Dtype  \n",
      "---  ------            --------------  -----  \n",
      " 0   customerID        7043 non-null   object \n",
      " 1   gender            7043 non-null   object \n",
      " 2   SeniorCitizen     7043 non-null   object \n",
      " 3   Partner           7043 non-null   object \n",
      " 4   Dependents        7043 non-null   object \n",
      " 5   tenure            7043 non-null   int64  \n",
      " 6   PhoneService      7043 non-null   object \n",
      " 7   MultipleLines     7043 non-null   object \n",
      " 8   InternetService   7043 non-null   object \n",
      " 9   OnlineSecurity    7043 non-null   object \n",
      " 10  OnlineBackup      7043 non-null   object \n",
      " 11  DeviceProtection  7043 non-null   object \n",
      " 12  TechSupport       7043 non-null   object \n",
      " 13  StreamingTV       7043 non-null   object \n",
      " 14  StreamingMovies   7043 non-null   object \n",
      " 15  Contract          7043 non-null   object \n",
      " 16  PaperlessBilling  7043 non-null   object \n",
      " 17  PaymentMethod     7043 non-null   object \n",
      " 18  MonthlyCharges    7043 non-null   float64\n",
      " 19  TotalCharges      7032 non-null   float64\n",
      " 20  Churn             7043 non-null   object \n",
      "dtypes: float64(2), int64(1), object(18)\n",
      "memory usage: 1.1+ MB\n"
     ]
    }
   ],
   "source": [
    "raw_data.info()"
   ]
  },
  {
   "cell_type": "markdown",
   "id": "0828877d",
   "metadata": {},
   "source": [
    "Có 1 số ít dữ liệu bị thiếu ở feature `TotalCharges` sau khi đã được làm sạch. Hãy tìm hiểu 1 chút"
   ]
  },
  {
   "cell_type": "code",
   "execution_count": 7,
   "id": "9d0a5f23",
   "metadata": {},
   "outputs": [
    {
     "data": {
      "text/plain": [
       "11"
      ]
     },
     "execution_count": 7,
     "metadata": {},
     "output_type": "execute_result"
    }
   ],
   "source": [
    "raw_data['TotalCharges'].isna().sum()"
   ]
  },
  {
   "cell_type": "code",
   "execution_count": 8,
   "id": "befca5b4",
   "metadata": {},
   "outputs": [
    {
     "data": {
      "text/html": [
       "<div>\n",
       "<style scoped>\n",
       "    .dataframe tbody tr th:only-of-type {\n",
       "        vertical-align: middle;\n",
       "    }\n",
       "\n",
       "    .dataframe tbody tr th {\n",
       "        vertical-align: top;\n",
       "    }\n",
       "\n",
       "    .dataframe thead th {\n",
       "        text-align: right;\n",
       "    }\n",
       "</style>\n",
       "<table border=\"1\" class=\"dataframe\">\n",
       "  <thead>\n",
       "    <tr style=\"text-align: right;\">\n",
       "      <th></th>\n",
       "      <th>customerID</th>\n",
       "      <th>gender</th>\n",
       "      <th>SeniorCitizen</th>\n",
       "      <th>Partner</th>\n",
       "      <th>Dependents</th>\n",
       "      <th>tenure</th>\n",
       "      <th>PhoneService</th>\n",
       "      <th>MultipleLines</th>\n",
       "      <th>InternetService</th>\n",
       "      <th>OnlineSecurity</th>\n",
       "      <th>...</th>\n",
       "      <th>DeviceProtection</th>\n",
       "      <th>TechSupport</th>\n",
       "      <th>StreamingTV</th>\n",
       "      <th>StreamingMovies</th>\n",
       "      <th>Contract</th>\n",
       "      <th>PaperlessBilling</th>\n",
       "      <th>PaymentMethod</th>\n",
       "      <th>MonthlyCharges</th>\n",
       "      <th>TotalCharges</th>\n",
       "      <th>Churn</th>\n",
       "    </tr>\n",
       "  </thead>\n",
       "  <tbody>\n",
       "    <tr>\n",
       "      <th>488</th>\n",
       "      <td>4472-LVYGI</td>\n",
       "      <td>Female</td>\n",
       "      <td>0</td>\n",
       "      <td>Yes</td>\n",
       "      <td>Yes</td>\n",
       "      <td>0</td>\n",
       "      <td>No</td>\n",
       "      <td>No phone service</td>\n",
       "      <td>DSL</td>\n",
       "      <td>Yes</td>\n",
       "      <td>...</td>\n",
       "      <td>Yes</td>\n",
       "      <td>Yes</td>\n",
       "      <td>Yes</td>\n",
       "      <td>No</td>\n",
       "      <td>Two year</td>\n",
       "      <td>Yes</td>\n",
       "      <td>Bank transfer (automatic)</td>\n",
       "      <td>52.55</td>\n",
       "      <td>NaN</td>\n",
       "      <td>No</td>\n",
       "    </tr>\n",
       "  </tbody>\n",
       "</table>\n",
       "<p>1 rows × 21 columns</p>\n",
       "</div>"
      ],
      "text/plain": [
       "     customerID  gender SeniorCitizen Partner Dependents  tenure PhoneService  \\\n",
       "488  4472-LVYGI  Female             0     Yes        Yes       0           No   \n",
       "\n",
       "        MultipleLines InternetService OnlineSecurity  ... DeviceProtection  \\\n",
       "488  No phone service             DSL            Yes  ...              Yes   \n",
       "\n",
       "    TechSupport StreamingTV StreamingMovies  Contract PaperlessBilling  \\\n",
       "488         Yes         Yes              No  Two year              Yes   \n",
       "\n",
       "                 PaymentMethod MonthlyCharges  TotalCharges  Churn  \n",
       "488  Bank transfer (automatic)          52.55           NaN     No  \n",
       "\n",
       "[1 rows x 21 columns]"
      ]
     },
     "execution_count": 8,
     "metadata": {},
     "output_type": "execute_result"
    }
   ],
   "source": [
    "raw_data[np.isnan(raw_data['TotalCharges'])].head(1)"
   ]
  },
  {
   "cell_type": "markdown",
   "id": "b3286cbf",
   "metadata": {},
   "source": [
    "Có thể thấy mặc dù thông tin của khách hàng đều có đầy đủ giá trị ở `tenure` và `MonthlyCharges` vì 1 số lý do lại thiếu đi giá trị ở `TotalCharges`. <br>\n",
    "Chúng ta sẽ dễ dàng điền vào những giá trị trống này bằng cách lấy giá trị ở `tenure` * `MonthlyCharges`"
   ]
  },
  {
   "cell_type": "code",
   "execution_count": 9,
   "id": "4cd668a6",
   "metadata": {},
   "outputs": [],
   "source": [
    "raw_data['TotalCharges'].fillna(raw_data['tenure'] * raw_data['MonthlyCharges'], inplace=True)"
   ]
  },
  {
   "cell_type": "code",
   "execution_count": 10,
   "id": "21f2cf07",
   "metadata": {},
   "outputs": [
    {
     "name": "stdout",
     "output_type": "stream",
     "text": [
      "<class 'pandas.core.frame.DataFrame'>\n",
      "RangeIndex: 7043 entries, 0 to 7042\n",
      "Data columns (total 21 columns):\n",
      " #   Column            Non-Null Count  Dtype  \n",
      "---  ------            --------------  -----  \n",
      " 0   customerID        7043 non-null   object \n",
      " 1   gender            7043 non-null   object \n",
      " 2   SeniorCitizen     7043 non-null   object \n",
      " 3   Partner           7043 non-null   object \n",
      " 4   Dependents        7043 non-null   object \n",
      " 5   tenure            7043 non-null   int64  \n",
      " 6   PhoneService      7043 non-null   object \n",
      " 7   MultipleLines     7043 non-null   object \n",
      " 8   InternetService   7043 non-null   object \n",
      " 9   OnlineSecurity    7043 non-null   object \n",
      " 10  OnlineBackup      7043 non-null   object \n",
      " 11  DeviceProtection  7043 non-null   object \n",
      " 12  TechSupport       7043 non-null   object \n",
      " 13  StreamingTV       7043 non-null   object \n",
      " 14  StreamingMovies   7043 non-null   object \n",
      " 15  Contract          7043 non-null   object \n",
      " 16  PaperlessBilling  7043 non-null   object \n",
      " 17  PaymentMethod     7043 non-null   object \n",
      " 18  MonthlyCharges    7043 non-null   float64\n",
      " 19  TotalCharges      7043 non-null   float64\n",
      " 20  Churn             7043 non-null   object \n",
      "dtypes: float64(2), int64(1), object(18)\n",
      "memory usage: 1.1+ MB\n"
     ]
    },
    {
     "data": {
      "text/plain": [
       "customerID          False\n",
       "gender              False\n",
       "SeniorCitizen       False\n",
       "Partner             False\n",
       "Dependents          False\n",
       "tenure              False\n",
       "PhoneService        False\n",
       "MultipleLines       False\n",
       "InternetService     False\n",
       "OnlineSecurity      False\n",
       "OnlineBackup        False\n",
       "DeviceProtection    False\n",
       "TechSupport         False\n",
       "StreamingTV         False\n",
       "StreamingMovies     False\n",
       "Contract            False\n",
       "PaperlessBilling    False\n",
       "PaymentMethod       False\n",
       "MonthlyCharges      False\n",
       "TotalCharges        False\n",
       "Churn               False\n",
       "dtype: bool"
      ]
     },
     "execution_count": 10,
     "metadata": {},
     "output_type": "execute_result"
    }
   ],
   "source": [
    "raw_data.info()\n",
    "raw_data.isnull().any()"
   ]
  },
  {
   "cell_type": "code",
   "execution_count": 11,
   "id": "b423311e",
   "metadata": {},
   "outputs": [
    {
     "data": {
      "text/html": [
       "<div>\n",
       "<style scoped>\n",
       "    .dataframe tbody tr th:only-of-type {\n",
       "        vertical-align: middle;\n",
       "    }\n",
       "\n",
       "    .dataframe tbody tr th {\n",
       "        vertical-align: top;\n",
       "    }\n",
       "\n",
       "    .dataframe thead th {\n",
       "        text-align: right;\n",
       "    }\n",
       "</style>\n",
       "<table border=\"1\" class=\"dataframe\">\n",
       "  <thead>\n",
       "    <tr style=\"text-align: right;\">\n",
       "      <th></th>\n",
       "      <th>tenure</th>\n",
       "      <th>MonthlyCharges</th>\n",
       "      <th>TotalCharges</th>\n",
       "    </tr>\n",
       "  </thead>\n",
       "  <tbody>\n",
       "    <tr>\n",
       "      <th>count</th>\n",
       "      <td>7043.000000</td>\n",
       "      <td>7043.000000</td>\n",
       "      <td>7043.000000</td>\n",
       "    </tr>\n",
       "    <tr>\n",
       "      <th>mean</th>\n",
       "      <td>32.371149</td>\n",
       "      <td>64.761692</td>\n",
       "      <td>2279.734304</td>\n",
       "    </tr>\n",
       "    <tr>\n",
       "      <th>std</th>\n",
       "      <td>24.559481</td>\n",
       "      <td>30.090047</td>\n",
       "      <td>2266.794470</td>\n",
       "    </tr>\n",
       "    <tr>\n",
       "      <th>min</th>\n",
       "      <td>0.000000</td>\n",
       "      <td>18.250000</td>\n",
       "      <td>0.000000</td>\n",
       "    </tr>\n",
       "    <tr>\n",
       "      <th>25%</th>\n",
       "      <td>9.000000</td>\n",
       "      <td>35.500000</td>\n",
       "      <td>398.550000</td>\n",
       "    </tr>\n",
       "    <tr>\n",
       "      <th>50%</th>\n",
       "      <td>29.000000</td>\n",
       "      <td>70.350000</td>\n",
       "      <td>1394.550000</td>\n",
       "    </tr>\n",
       "    <tr>\n",
       "      <th>75%</th>\n",
       "      <td>55.000000</td>\n",
       "      <td>89.850000</td>\n",
       "      <td>3786.600000</td>\n",
       "    </tr>\n",
       "    <tr>\n",
       "      <th>max</th>\n",
       "      <td>72.000000</td>\n",
       "      <td>118.750000</td>\n",
       "      <td>8684.800000</td>\n",
       "    </tr>\n",
       "  </tbody>\n",
       "</table>\n",
       "</div>"
      ],
      "text/plain": [
       "            tenure  MonthlyCharges  TotalCharges\n",
       "count  7043.000000     7043.000000   7043.000000\n",
       "mean     32.371149       64.761692   2279.734304\n",
       "std      24.559481       30.090047   2266.794470\n",
       "min       0.000000       18.250000      0.000000\n",
       "25%       9.000000       35.500000    398.550000\n",
       "50%      29.000000       70.350000   1394.550000\n",
       "75%      55.000000       89.850000   3786.600000\n",
       "max      72.000000      118.750000   8684.800000"
      ]
     },
     "execution_count": 11,
     "metadata": {},
     "output_type": "execute_result"
    }
   ],
   "source": [
    "raw_data.describe()"
   ]
  },
  {
   "cell_type": "markdown",
   "id": "8455751c",
   "metadata": {},
   "source": [
    "- 1 nửa lượng khách hàng đăng kí dịch vụ hơn 29 tháng - hơn 2 năm\n",
    "- Trung bình doanh thu theo tháng này của công ty rơi vào khoảng `$65`/khách hàng\n",
    "- Trung bình tổng doanh thu của công ty rơi vào khoảng `$2280`/khách hàng"
   ]
  },
  {
   "cell_type": "code",
   "execution_count": 12,
   "id": "c08be701",
   "metadata": {},
   "outputs": [
    {
     "data": {
      "text/html": [
       "<div>\n",
       "<style scoped>\n",
       "    .dataframe tbody tr th:only-of-type {\n",
       "        vertical-align: middle;\n",
       "    }\n",
       "\n",
       "    .dataframe tbody tr th {\n",
       "        vertical-align: top;\n",
       "    }\n",
       "\n",
       "    .dataframe thead th {\n",
       "        text-align: right;\n",
       "    }\n",
       "</style>\n",
       "<table border=\"1\" class=\"dataframe\">\n",
       "  <thead>\n",
       "    <tr style=\"text-align: right;\">\n",
       "      <th></th>\n",
       "      <th>Churn</th>\n",
       "      <th>No</th>\n",
       "      <th>Yes</th>\n",
       "    </tr>\n",
       "  </thead>\n",
       "  <tbody>\n",
       "    <tr>\n",
       "      <th rowspan=\"8\" valign=\"top\">tenure</th>\n",
       "      <th>count</th>\n",
       "      <td>5174.000000</td>\n",
       "      <td>1869.000000</td>\n",
       "    </tr>\n",
       "    <tr>\n",
       "      <th>mean</th>\n",
       "      <td>37.569965</td>\n",
       "      <td>17.979133</td>\n",
       "    </tr>\n",
       "    <tr>\n",
       "      <th>std</th>\n",
       "      <td>24.113777</td>\n",
       "      <td>19.531123</td>\n",
       "    </tr>\n",
       "    <tr>\n",
       "      <th>min</th>\n",
       "      <td>0.000000</td>\n",
       "      <td>1.000000</td>\n",
       "    </tr>\n",
       "    <tr>\n",
       "      <th>25%</th>\n",
       "      <td>15.000000</td>\n",
       "      <td>2.000000</td>\n",
       "    </tr>\n",
       "    <tr>\n",
       "      <th>50%</th>\n",
       "      <td>38.000000</td>\n",
       "      <td>10.000000</td>\n",
       "    </tr>\n",
       "    <tr>\n",
       "      <th>75%</th>\n",
       "      <td>61.000000</td>\n",
       "      <td>29.000000</td>\n",
       "    </tr>\n",
       "    <tr>\n",
       "      <th>max</th>\n",
       "      <td>72.000000</td>\n",
       "      <td>72.000000</td>\n",
       "    </tr>\n",
       "    <tr>\n",
       "      <th rowspan=\"8\" valign=\"top\">MonthlyCharges</th>\n",
       "      <th>count</th>\n",
       "      <td>5174.000000</td>\n",
       "      <td>1869.000000</td>\n",
       "    </tr>\n",
       "    <tr>\n",
       "      <th>mean</th>\n",
       "      <td>61.265124</td>\n",
       "      <td>74.441332</td>\n",
       "    </tr>\n",
       "    <tr>\n",
       "      <th>std</th>\n",
       "      <td>31.092648</td>\n",
       "      <td>24.666053</td>\n",
       "    </tr>\n",
       "    <tr>\n",
       "      <th>min</th>\n",
       "      <td>18.250000</td>\n",
       "      <td>18.850000</td>\n",
       "    </tr>\n",
       "    <tr>\n",
       "      <th>25%</th>\n",
       "      <td>25.100000</td>\n",
       "      <td>56.150000</td>\n",
       "    </tr>\n",
       "    <tr>\n",
       "      <th>50%</th>\n",
       "      <td>64.425000</td>\n",
       "      <td>79.650000</td>\n",
       "    </tr>\n",
       "    <tr>\n",
       "      <th>75%</th>\n",
       "      <td>88.400000</td>\n",
       "      <td>94.200000</td>\n",
       "    </tr>\n",
       "    <tr>\n",
       "      <th>max</th>\n",
       "      <td>118.750000</td>\n",
       "      <td>118.350000</td>\n",
       "    </tr>\n",
       "    <tr>\n",
       "      <th rowspan=\"8\" valign=\"top\">TotalCharges</th>\n",
       "      <th>count</th>\n",
       "      <td>5174.000000</td>\n",
       "      <td>1869.000000</td>\n",
       "    </tr>\n",
       "    <tr>\n",
       "      <th>mean</th>\n",
       "      <td>2549.911442</td>\n",
       "      <td>1531.796094</td>\n",
       "    </tr>\n",
       "    <tr>\n",
       "      <th>std</th>\n",
       "      <td>2329.954215</td>\n",
       "      <td>1890.822994</td>\n",
       "    </tr>\n",
       "    <tr>\n",
       "      <th>min</th>\n",
       "      <td>0.000000</td>\n",
       "      <td>18.850000</td>\n",
       "    </tr>\n",
       "    <tr>\n",
       "      <th>25%</th>\n",
       "      <td>572.900000</td>\n",
       "      <td>134.500000</td>\n",
       "    </tr>\n",
       "    <tr>\n",
       "      <th>50%</th>\n",
       "      <td>1679.525000</td>\n",
       "      <td>703.550000</td>\n",
       "    </tr>\n",
       "    <tr>\n",
       "      <th>75%</th>\n",
       "      <td>4262.850000</td>\n",
       "      <td>2331.300000</td>\n",
       "    </tr>\n",
       "    <tr>\n",
       "      <th>max</th>\n",
       "      <td>8672.450000</td>\n",
       "      <td>8684.800000</td>\n",
       "    </tr>\n",
       "  </tbody>\n",
       "</table>\n",
       "</div>"
      ],
      "text/plain": [
       "Churn                          No          Yes\n",
       "tenure         count  5174.000000  1869.000000\n",
       "               mean     37.569965    17.979133\n",
       "               std      24.113777    19.531123\n",
       "               min       0.000000     1.000000\n",
       "               25%      15.000000     2.000000\n",
       "               50%      38.000000    10.000000\n",
       "               75%      61.000000    29.000000\n",
       "               max      72.000000    72.000000\n",
       "MonthlyCharges count  5174.000000  1869.000000\n",
       "               mean     61.265124    74.441332\n",
       "               std      31.092648    24.666053\n",
       "               min      18.250000    18.850000\n",
       "               25%      25.100000    56.150000\n",
       "               50%      64.425000    79.650000\n",
       "               75%      88.400000    94.200000\n",
       "               max     118.750000   118.350000\n",
       "TotalCharges   count  5174.000000  1869.000000\n",
       "               mean   2549.911442  1531.796094\n",
       "               std    2329.954215  1890.822994\n",
       "               min       0.000000    18.850000\n",
       "               25%     572.900000   134.500000\n",
       "               50%    1679.525000   703.550000\n",
       "               75%    4262.850000  2331.300000\n",
       "               max    8672.450000  8684.800000"
      ]
     },
     "execution_count": 12,
     "metadata": {},
     "output_type": "execute_result"
    }
   ],
   "source": [
    "raw_data.groupby('Churn').describe().T"
   ]
  },
  {
   "cell_type": "markdown",
   "id": "c5c826b9",
   "metadata": {},
   "source": [
    "- Dễ dàng thấy được trung bình số tháng đăng kí của những người ở lại cao hơn những người rời đi\n",
    "- Trung bình `MonthlyCharges` của những người rời đi lại cao hơn những người ở lại, điều này cần tìm hiểu kĩ để có thể đưa ra kết luận"
   ]
  },
  {
   "cell_type": "code",
   "execution_count": 13,
   "id": "7ae86164",
   "metadata": {},
   "outputs": [
    {
     "data": {
      "text/plain": [
       "Index(['customerID', 'gender', 'SeniorCitizen', 'Partner', 'Dependents',\n",
       "       'tenure', 'PhoneService', 'MultipleLines', 'InternetService',\n",
       "       'OnlineSecurity', 'OnlineBackup', 'DeviceProtection', 'TechSupport',\n",
       "       'StreamingTV', 'StreamingMovies', 'Contract', 'PaperlessBilling',\n",
       "       'PaymentMethod', 'MonthlyCharges', 'TotalCharges', 'Churn'],\n",
       "      dtype='object')"
      ]
     },
     "execution_count": 13,
     "metadata": {},
     "output_type": "execute_result"
    }
   ],
   "source": [
    "raw_data.columns"
   ]
  },
  {
   "cell_type": "markdown",
   "id": "62583a2e",
   "metadata": {},
   "source": [
    "# EDA"
   ]
  },
  {
   "cell_type": "code",
   "execution_count": 14,
   "id": "00fa00c0",
   "metadata": {},
   "outputs": [
    {
     "data": {
      "text/plain": [
       "No     0.73463\n",
       "Yes    0.26537\n",
       "Name: Churn, dtype: float64"
      ]
     },
     "execution_count": 14,
     "metadata": {},
     "output_type": "execute_result"
    },
    {
     "data": {
      "image/png": "[encoded data removed]",
      "text/plain": [
       "<Figure size 432x288 with 1 Axes>"
      ]
     },
     "metadata": {
      "needs_background": "light"
     },
     "output_type": "display_data"
    }
   ],
   "source": [
    "sns.countplot(x='Churn', data=raw_data)\n",
    "\n",
    "raw_data['Churn'].value_counts(normalize=True)"
   ]
  },
  {
   "cell_type": "code",
   "execution_count": 15,
   "id": "1460fc9c",
   "metadata": {},
   "outputs": [
    {
     "name": "stdout",
     "output_type": "stream",
     "text": [
      "Tổng doanh thu bị mất mỗi tháng dựa trên lượng khách hàng rời đi: $139130.85\n"
     ]
    }
   ],
   "source": [
    "print('Tổng doanh thu bị mất mỗi tháng dựa trên lượng khách hàng rời đi: $' + str(raw_data[raw_data['Churn'] == 'Yes']['MonthlyCharges'].sum()))"
   ]
  },
  {
   "cell_type": "markdown",
   "id": "483d3e3b",
   "metadata": {},
   "source": [
    "- `26.54%` người dùng rời dịch vụ so với tháng trước\n",
    "- Công ty bị sụt giảm `$140k` mỗi tháng, chiếm `30.5%` doanh thu mỗi tháng"
   ]
  },
  {
   "cell_type": "markdown",
   "id": "0a32dc37",
   "metadata": {},
   "source": [
    "#### Hãy tìm hiểu các feature của dữ liệu"
   ]
  },
  {
   "cell_type": "markdown",
   "id": "73561f43",
   "metadata": {},
   "source": [
    "## `gender`"
   ]
  },
  {
   "cell_type": "code",
   "execution_count": 16,
   "id": "27557854",
   "metadata": {},
   "outputs": [
    {
     "data": {
      "text/plain": [
       "<AxesSubplot:xlabel='gender', ylabel='count'>"
      ]
     },
     "execution_count": 16,
     "metadata": {},
     "output_type": "execute_result"
    },
    {
     "data": {
      "image/png": "[encoded data removed]",
      "text/plain": [
       "<Figure size 432x288 with 1 Axes>"
      ]
     },
     "metadata": {
      "needs_background": "light"
     },
     "output_type": "display_data"
    }
   ],
   "source": [
    "sns.countplot(x='gender', hue='Churn', data=raw_data)"
   ]
  },
  {
   "cell_type": "code",
   "execution_count": 17,
   "id": "5e57e552",
   "metadata": {},
   "outputs": [
    {
     "data": {
      "text/html": [
       "<div>\n",
       "<style scoped>\n",
       "    .dataframe tbody tr th:only-of-type {\n",
       "        vertical-align: middle;\n",
       "    }\n",
       "\n",
       "    .dataframe tbody tr th {\n",
       "        vertical-align: top;\n",
       "    }\n",
       "\n",
       "    .dataframe thead th {\n",
       "        text-align: right;\n",
       "    }\n",
       "</style>\n",
       "<table border=\"1\" class=\"dataframe\">\n",
       "  <thead>\n",
       "    <tr style=\"text-align: right;\">\n",
       "      <th></th>\n",
       "      <th>MonthlyCharges</th>\n",
       "      <th>TotalCharges</th>\n",
       "    </tr>\n",
       "    <tr>\n",
       "      <th>gender</th>\n",
       "      <th></th>\n",
       "      <th></th>\n",
       "    </tr>\n",
       "  </thead>\n",
       "  <tbody>\n",
       "    <tr>\n",
       "      <th>Female</th>\n",
       "      <td>65.204243</td>\n",
       "      <td>2279.918062</td>\n",
       "    </tr>\n",
       "    <tr>\n",
       "      <th>Male</th>\n",
       "      <td>64.327482</td>\n",
       "      <td>2279.554008</td>\n",
       "    </tr>\n",
       "  </tbody>\n",
       "</table>\n",
       "</div>"
      ],
      "text/plain": [
       "        MonthlyCharges  TotalCharges\n",
       "gender                              \n",
       "Female       65.204243   2279.918062\n",
       "Male         64.327482   2279.554008"
      ]
     },
     "execution_count": 17,
     "metadata": {},
     "output_type": "execute_result"
    }
   ],
   "source": [
    "raw_data.groupby('gender')[['MonthlyCharges', 'TotalCharges']].mean()"
   ]
  },
  {
   "cell_type": "markdown",
   "id": "498b1f02",
   "metadata": {},
   "source": [
    "- Giới tính của người đăng kí không làm ảnh hưởng đến việc họ rời dịch vụ hay không \n",
    "- Giới tính của người đăng kí không gây ảnh hưởng đến doanh thu của công ty"
   ]
  },
  {
   "cell_type": "markdown",
   "id": "6e009205",
   "metadata": {},
   "source": [
    "## `SeniorCitizen`"
   ]
  },
  {
   "cell_type": "code",
   "execution_count": 18,
   "id": "8988a695",
   "metadata": {},
   "outputs": [
    {
     "data": {
      "text/plain": [
       "0    5901\n",
       "1    1142\n",
       "Name: SeniorCitizen, dtype: int64"
      ]
     },
     "execution_count": 18,
     "metadata": {},
     "output_type": "execute_result"
    },
    {
     "data": {
      "image/png": "[encoded data removed]",
      "text/plain": [
       "<Figure size 432x288 with 1 Axes>"
      ]
     },
     "metadata": {
      "needs_background": "light"
     },
     "output_type": "display_data"
    }
   ],
   "source": [
    "sns.countplot(x='SeniorCitizen', data=raw_data)\n",
    "\n",
    "raw_data['SeniorCitizen'].value_counts()"
   ]
  },
  {
   "cell_type": "markdown",
   "id": "c0910c38",
   "metadata": {},
   "source": [
    "Phần lớn những người dùng dịch vụ tháng này đều không phải là Senior Citizen, chiếm `83.79%`"
   ]
  },
  {
   "cell_type": "code",
   "execution_count": 19,
   "id": "33f03a0d",
   "metadata": {},
   "outputs": [
    {
     "data": {
      "text/plain": [
       "<AxesSubplot:xlabel='SeniorCitizen', ylabel='count'>"
      ]
     },
     "execution_count": 19,
     "metadata": {},
     "output_type": "execute_result"
    },
    {
     "data": {
      "image/png": "[encoded data removed]",
      "text/plain": [
       "<Figure size 432x288 with 1 Axes>"
      ]
     },
     "metadata": {
      "needs_background": "light"
     },
     "output_type": "display_data"
    }
   ],
   "source": [
    "sns.countplot(x='SeniorCitizen', hue='Churn', data=raw_data)"
   ]
  },
  {
   "cell_type": "code",
   "execution_count": 20,
   "id": "aae98131",
   "metadata": {},
   "outputs": [
    {
     "data": {
      "text/plain": [
       "Text(0.5, 1.0, 'SeniorCitizen vs TotalCharges')"
      ]
     },
     "execution_count": 20,
     "metadata": {},
     "output_type": "execute_result"
    },
    {
     "data": {
      "image/png": "[encoded data removed]",
      "text/plain": [
       "<Figure size 1656x720 with 2 Axes>"
      ]
     },
     "metadata": {
      "needs_background": "light"
     },
     "output_type": "display_data"
    }
   ],
   "source": [
    "fig, ax = plt.subplots(1, 2, figsize=(23,10))\n",
    "\n",
    "sns.boxplot(x='SeniorCitizen', y='MonthlyCharges', hue='Churn', data=raw_data, ax=ax[0])\n",
    "sns.boxplot(x='SeniorCitizen', y='TotalCharges', hue='Churn', data=raw_data, ax=ax[1])\n",
    "\n",
    "ax[0].set_title('SeniorCitizen vs MonthlyCharges')\n",
    "ax[1].set_title('SeniorCitizen vs TotalCharges')"
   ]
  },
  {
   "cell_type": "markdown",
   "id": "c75bcf9d",
   "metadata": {},
   "source": [
    "- Chúng ta có thể thấy những `SeniorCitizen` chi nhiều tiền hơn cho dịch vụ của công ty. Họ có trung bình `MonthlyCharges` và `TotalCharges` cao hơn. Nhưng họ chỉ chiếm `16.21%` lượng người đăng kí và có tỉ lệ bỏ dịch vụ lên tới `41.68%` vào tháng sau\n",
    "- Tổng doanh thu của công ty vẫn đến chủ yếu từ những Non Senior Citizen vì họ chiếm `83.79%` lượng người đăng kí và có `23.61%` tỉ lệ bỏ dịch vụ vào tháng sau <br> <br>\n",
    "<b>Tỉ lệ bỏ dịch vụ của Senior Citizen là rất đáng chú ý</b>"
   ]
  },
  {
   "cell_type": "markdown",
   "id": "36c9b1dd",
   "metadata": {},
   "source": [
    "## `Partner`"
   ]
  },
  {
   "cell_type": "code",
   "execution_count": 21,
   "id": "b3b041d0",
   "metadata": {},
   "outputs": [
    {
     "data": {
      "text/plain": [
       "<AxesSubplot:xlabel='Partner', ylabel='count'>"
      ]
     },
     "execution_count": 21,
     "metadata": {},
     "output_type": "execute_result"
    },
    {
     "data": {
      "image/png": "[encoded data removed]",
      "text/plain": [
       "<Figure size 432x288 with 1 Axes>"
      ]
     },
     "metadata": {
      "needs_background": "light"
     },
     "output_type": "display_data"
    }
   ],
   "source": [
    "sns.countplot(x='Partner', data=raw_data)"
   ]
  },
  {
   "cell_type": "code",
   "execution_count": 22,
   "id": "34be5896",
   "metadata": {},
   "outputs": [
    {
     "data": {
      "text/plain": [
       "<AxesSubplot:xlabel='Partner', ylabel='count'>"
      ]
     },
     "execution_count": 22,
     "metadata": {},
     "output_type": "execute_result"
    },
    {
     "data": {
      "image/png": "[encoded data removed]",
      "text/plain": [
       "<Figure size 432x288 with 1 Axes>"
      ]
     },
     "metadata": {
      "needs_background": "light"
     },
     "output_type": "display_data"
    }
   ],
   "source": [
    "sns.countplot(x='Partner', hue='Churn', data=raw_data)"
   ]
  },
  {
   "cell_type": "code",
   "execution_count": 23,
   "id": "dd980357",
   "metadata": {},
   "outputs": [
    {
     "data": {
      "text/html": [
       "<div>\n",
       "<style scoped>\n",
       "    .dataframe tbody tr th:only-of-type {\n",
       "        vertical-align: middle;\n",
       "    }\n",
       "\n",
       "    .dataframe tbody tr th {\n",
       "        vertical-align: top;\n",
       "    }\n",
       "\n",
       "    .dataframe thead th {\n",
       "        text-align: right;\n",
       "    }\n",
       "</style>\n",
       "<table border=\"1\" class=\"dataframe\">\n",
       "  <thead>\n",
       "    <tr style=\"text-align: right;\">\n",
       "      <th></th>\n",
       "      <th>tenure</th>\n",
       "      <th>MonthlyCharges</th>\n",
       "      <th>TotalCharges</th>\n",
       "    </tr>\n",
       "    <tr>\n",
       "      <th>Partner</th>\n",
       "      <th></th>\n",
       "      <th></th>\n",
       "      <th></th>\n",
       "    </tr>\n",
       "  </thead>\n",
       "  <tbody>\n",
       "    <tr>\n",
       "      <th>No</th>\n",
       "      <td>23.357869</td>\n",
       "      <td>61.945001</td>\n",
       "      <td>1584.089810</td>\n",
       "    </tr>\n",
       "    <tr>\n",
       "      <th>Yes</th>\n",
       "      <td>42.017637</td>\n",
       "      <td>67.776264</td>\n",
       "      <td>3024.249765</td>\n",
       "    </tr>\n",
       "  </tbody>\n",
       "</table>\n",
       "</div>"
      ],
      "text/plain": [
       "            tenure  MonthlyCharges  TotalCharges\n",
       "Partner                                         \n",
       "No       23.357869       61.945001   1584.089810\n",
       "Yes      42.017637       67.776264   3024.249765"
      ]
     },
     "execution_count": 23,
     "metadata": {},
     "output_type": "execute_result"
    },
    {
     "data": {
      "image/png": "[encoded data removed]",
      "text/plain": [
       "<Figure size 1440x576 with 1 Axes>"
      ]
     },
     "metadata": {
      "needs_background": "light"
     },
     "output_type": "display_data"
    }
   ],
   "source": [
    "plt.figure(figsize=(20,8))\n",
    "sns.countplot(x='tenure', hue='Partner', data=raw_data)\n",
    "\n",
    "raw_data.groupby('Partner')[['tenure', 'MonthlyCharges', 'TotalCharges']].mean()"
   ]
  },
  {
   "cell_type": "markdown",
   "id": "5f5e0faa",
   "metadata": {},
   "source": [
    "- Có thể thấy được nhóm người có `Partner` ở lại với công ty lâu hơn\n",
    "- Tỉ lệ rời dịch vụ của những người không có `Partner` cao hơn những người có `Partner`\n",
    "- Trung bình doanh thu theo tháng công ty thu được từ những người có `Partner` so với những người không có `Partner` là gần như nhau\n",
    "- Nhưng điều đáng chú ý là những người có `Partner` gắn bó với dịch vụ lâu hơn rất nhiều. Vì vậy tổng doanh thu thu được từ những người có `Partner` sẽ cao hơn"
   ]
  },
  {
   "cell_type": "markdown",
   "id": "a438e5c6",
   "metadata": {},
   "source": [
    "## `Dependents`"
   ]
  },
  {
   "cell_type": "code",
   "execution_count": 24,
   "id": "3a66710f",
   "metadata": {},
   "outputs": [
    {
     "data": {
      "text/plain": [
       "<AxesSubplot:xlabel='Dependents', ylabel='count'>"
      ]
     },
     "execution_count": 24,
     "metadata": {},
     "output_type": "execute_result"
    },
    {
     "data": {
      "image/png": "[encoded data removed]",
      "text/plain": [
       "<Figure size 432x288 with 1 Axes>"
      ]
     },
     "metadata": {
      "needs_background": "light"
     },
     "output_type": "display_data"
    }
   ],
   "source": [
    "sns.countplot(x='Dependents', data=raw_data)"
   ]
  },
  {
   "cell_type": "markdown",
   "id": "c609c787",
   "metadata": {},
   "source": [
    "`70.04%` những người đăng kí không có người phụ thuộc"
   ]
  },
  {
   "cell_type": "code",
   "execution_count": 25,
   "id": "fddf9dcd",
   "metadata": {},
   "outputs": [
    {
     "data": {
      "text/plain": [
       "<AxesSubplot:xlabel='Partner', ylabel='count'>"
      ]
     },
     "execution_count": 25,
     "metadata": {},
     "output_type": "execute_result"
    },
    {
     "data": {
      "image/png": "[encoded data removed]",
      "text/plain": [
       "<Figure size 432x288 with 1 Axes>"
      ]
     },
     "metadata": {
      "needs_background": "light"
     },
     "output_type": "display_data"
    }
   ],
   "source": [
    "sns.countplot(x='Partner', hue='Dependents', data=raw_data)"
   ]
  },
  {
   "cell_type": "markdown",
   "id": "6896101e",
   "metadata": {},
   "source": [
    "Dễ dàng thấy được những người có `Partner` sẽ có nhiều người phụ thuộc (con cái) hơn những người độc thân"
   ]
  },
  {
   "cell_type": "code",
   "execution_count": 26,
   "id": "4312f4de",
   "metadata": {},
   "outputs": [
    {
     "data": {
      "text/plain": [
       "<AxesSubplot:xlabel='Dependents', ylabel='count'>"
      ]
     },
     "execution_count": 26,
     "metadata": {},
     "output_type": "execute_result"
    },
    {
     "data": {
      "image/png": "[encoded data removed]",
      "text/plain": [
       "<Figure size 432x288 with 1 Axes>"
      ]
     },
     "metadata": {
      "needs_background": "light"
     },
     "output_type": "display_data"
    }
   ],
   "source": [
    "sns.countplot(x='Dependents', hue='Churn', data=raw_data)"
   ]
  },
  {
   "cell_type": "markdown",
   "id": "88cf8f53",
   "metadata": {},
   "source": [
    "Có thể thấy được tỉ lệ rời dịch vụ của những người có người phụ thuộc thấp hơn nhiều so với những người không có người phụ thuộc (`15.45%` vs `31.28%`)"
   ]
  },
  {
   "cell_type": "code",
   "execution_count": 27,
   "id": "fabacabe",
   "metadata": {},
   "outputs": [
    {
     "data": {
      "text/html": [
       "<div>\n",
       "<style scoped>\n",
       "    .dataframe tbody tr th:only-of-type {\n",
       "        vertical-align: middle;\n",
       "    }\n",
       "\n",
       "    .dataframe tbody tr th {\n",
       "        vertical-align: top;\n",
       "    }\n",
       "\n",
       "    .dataframe thead th {\n",
       "        text-align: right;\n",
       "    }\n",
       "</style>\n",
       "<table border=\"1\" class=\"dataframe\">\n",
       "  <thead>\n",
       "    <tr style=\"text-align: right;\">\n",
       "      <th></th>\n",
       "      <th>tenure</th>\n",
       "      <th>MonthlyCharges</th>\n",
       "      <th>TotalCharges</th>\n",
       "    </tr>\n",
       "    <tr>\n",
       "      <th>Dependents</th>\n",
       "      <th></th>\n",
       "      <th></th>\n",
       "      <th></th>\n",
       "    </tr>\n",
       "  </thead>\n",
       "  <tbody>\n",
       "    <tr>\n",
       "      <th>No</th>\n",
       "      <td>29.806000</td>\n",
       "      <td>67.002808</td>\n",
       "      <td>2187.709254</td>\n",
       "    </tr>\n",
       "    <tr>\n",
       "      <th>Yes</th>\n",
       "      <td>38.368246</td>\n",
       "      <td>59.522156</td>\n",
       "      <td>2494.881019</td>\n",
       "    </tr>\n",
       "  </tbody>\n",
       "</table>\n",
       "</div>"
      ],
      "text/plain": [
       "               tenure  MonthlyCharges  TotalCharges\n",
       "Dependents                                         \n",
       "No          29.806000       67.002808   2187.709254\n",
       "Yes         38.368246       59.522156   2494.881019"
      ]
     },
     "execution_count": 27,
     "metadata": {},
     "output_type": "execute_result"
    },
    {
     "data": {
      "image/png": "[encoded data removed]",
      "text/plain": [
       "<Figure size 1440x576 with 1 Axes>"
      ]
     },
     "metadata": {
      "needs_background": "light"
     },
     "output_type": "display_data"
    }
   ],
   "source": [
    "plt.figure(figsize=(20,8))\n",
    "sns.countplot(x='tenure', hue='Dependents', data=raw_data)\n",
    "\n",
    "raw_data.groupby('Dependents')[['tenure', 'MonthlyCharges', 'TotalCharges']].mean()"
   ]
  },
  {
   "cell_type": "markdown",
   "id": "051ce291",
   "metadata": {},
   "source": [
    "- Có thể thấy được thời gian đăng kí càng lâu, tỉ lệ của nhóm người có người phụ thuộc càng tăng\n",
    "- Mặc dù chỉ chiếm khoảng `30%` lượng người đăng kí, nhưng nhóm người có `Dependents` trung bình chi nhiều tiền hơn cho dịch vụ và cung cấp doanh thu nhiều hơn cho công ty"
   ]
  },
  {
   "cell_type": "markdown",
   "id": "7c056940",
   "metadata": {},
   "source": [
    "## `tenure`"
   ]
  },
  {
   "cell_type": "code",
   "execution_count": 28,
   "id": "d6372a56",
   "metadata": {},
   "outputs": [
    {
     "data": {
      "text/plain": [
       "count    7043.000000\n",
       "mean       32.371149\n",
       "std        24.559481\n",
       "min         0.000000\n",
       "25%         9.000000\n",
       "50%        29.000000\n",
       "75%        55.000000\n",
       "max        72.000000\n",
       "Name: tenure, dtype: float64"
      ]
     },
     "execution_count": 28,
     "metadata": {},
     "output_type": "execute_result"
    }
   ],
   "source": [
    "raw_data.describe()['tenure']"
   ]
  },
  {
   "cell_type": "code",
   "execution_count": 29,
   "id": "27e9fe85",
   "metadata": {
    "scrolled": false
   },
   "outputs": [
    {
     "data": {
      "text/plain": [
       "<AxesSubplot:xlabel='Churn', ylabel='count'>"
      ]
     },
     "execution_count": 29,
     "metadata": {},
     "output_type": "execute_result"
    },
    {
     "data": {
      "image/png": "[encoded data removed]",
      "text/plain": [
       "<Figure size 1224x432 with 6 Axes>"
      ]
     },
     "metadata": {
      "needs_background": "light"
     },
     "output_type": "display_data"
    }
   ],
   "source": [
    "fig, ax = plt.subplots(2, 3, figsize=(17,6))\n",
    "\n",
    "sns.countplot(x='Churn', data=raw_data[raw_data['tenure'] == 0], ax=ax[0][0])\n",
    "sns.countplot(x='Churn', data=raw_data[raw_data['tenure'] < 12], ax=ax[0][1])\n",
    "sns.countplot(x='Churn', data=raw_data[raw_data['tenure'] > 12], ax=ax[0][2])\n",
    "sns.countplot(x='Churn', data=raw_data[raw_data['tenure'] > 24], ax=ax[1][0])\n",
    "sns.countplot(x='Churn', data=raw_data[raw_data['tenure'] > 36], ax=ax[1][1])\n",
    "sns.countplot(x='Churn', data=raw_data[raw_data['tenure'] == 72], ax=ax[1][2])"
   ]
  },
  {
   "cell_type": "code",
   "execution_count": 30,
   "id": "242ba773",
   "metadata": {},
   "outputs": [
    {
     "data": {
      "text/plain": [
       "<AxesSubplot:xlabel='Churn', ylabel='tenure'>"
      ]
     },
     "execution_count": 30,
     "metadata": {},
     "output_type": "execute_result"
    },
    {
     "data": {
      "image/png": "[encoded data removed]",
      "text/plain": [
       "<Figure size 432x288 with 1 Axes>"
      ]
     },
     "metadata": {
      "needs_background": "light"
     },
     "output_type": "display_data"
    }
   ],
   "source": [
    "sns.boxplot(x='Churn', y='tenure', data=raw_data)"
   ]
  },
  {
   "cell_type": "markdown",
   "id": "9b1b1193",
   "metadata": {},
   "source": [
    "- `100%` những người dùng dịch vụ tháng đầu đều đăng kí tiếp vào tháng sau\n",
    "- Người dùng mới có xu hướng bỏ dịch vụ\n",
    "- Tỉ lệ bỏ dịch vụ của những người đăng kí dưới 1 năm là rất cao (gần `50%`)\n",
    "- Thời gian đăng kí càng lâu thì tỉ lệ người dùng rời đi vào tháng sau càng giảm mạnh\n",
    "- Người dùng đăng kí càng lâu thì càng chi nhiều tiền hơn cho dịch vụ "
   ]
  },
  {
   "cell_type": "code",
   "execution_count": 31,
   "id": "1d0cedd4",
   "metadata": {},
   "outputs": [],
   "source": [
    "def analyze(col):\n",
    "    print(raw_data[col].value_counts(normalize=True))\n",
    "    \n",
    "    fig, ax = plt.subplots(1, 2, figsize=(20,8))\n",
    "    sns.countplot(x=col, data=raw_data, ax=ax[0])\n",
    "    sns.countplot(x=col, hue='Churn', data=raw_data, ax=ax[1])"
   ]
  },
  {
   "cell_type": "markdown",
   "id": "01d62449",
   "metadata": {},
   "source": [
    "## `PhoneService`"
   ]
  },
  {
   "cell_type": "code",
   "execution_count": 32,
   "id": "b40451e7",
   "metadata": {},
   "outputs": [
    {
     "name": "stdout",
     "output_type": "stream",
     "text": [
      "Yes    0.903166\n",
      "No     0.096834\n",
      "Name: PhoneService, dtype: float64\n"
     ]
    },
    {
     "data": {
      "image/png": "[encoded data removed]",
      "text/plain": [
       "<Figure size 1440x576 with 2 Axes>"
      ]
     },
     "metadata": {
      "needs_background": "light"
     },
     "output_type": "display_data"
    }
   ],
   "source": [
    "analyze('PhoneService')"
   ]
  },
  {
   "cell_type": "code",
   "execution_count": 33,
   "id": "b6537eb7",
   "metadata": {},
   "outputs": [
    {
     "data": {
      "text/html": [
       "<div>\n",
       "<style scoped>\n",
       "    .dataframe tbody tr th:only-of-type {\n",
       "        vertical-align: middle;\n",
       "    }\n",
       "\n",
       "    .dataframe tbody tr th {\n",
       "        vertical-align: top;\n",
       "    }\n",
       "\n",
       "    .dataframe thead th {\n",
       "        text-align: right;\n",
       "    }\n",
       "</style>\n",
       "<table border=\"1\" class=\"dataframe\">\n",
       "  <thead>\n",
       "    <tr style=\"text-align: right;\">\n",
       "      <th></th>\n",
       "      <th>tenure</th>\n",
       "      <th>MonthlyCharges</th>\n",
       "      <th>TotalCharges</th>\n",
       "    </tr>\n",
       "    <tr>\n",
       "      <th>PhoneService</th>\n",
       "      <th></th>\n",
       "      <th></th>\n",
       "      <th></th>\n",
       "    </tr>\n",
       "  </thead>\n",
       "  <tbody>\n",
       "    <tr>\n",
       "      <th>No</th>\n",
       "      <td>31.737537</td>\n",
       "      <td>42.028592</td>\n",
       "      <td>1496.033651</td>\n",
       "    </tr>\n",
       "    <tr>\n",
       "      <th>Yes</th>\n",
       "      <td>32.439082</td>\n",
       "      <td>67.199041</td>\n",
       "      <td>2363.759432</td>\n",
       "    </tr>\n",
       "  </tbody>\n",
       "</table>\n",
       "</div>"
      ],
      "text/plain": [
       "                 tenure  MonthlyCharges  TotalCharges\n",
       "PhoneService                                         \n",
       "No            31.737537       42.028592   1496.033651\n",
       "Yes           32.439082       67.199041   2363.759432"
      ]
     },
     "execution_count": 33,
     "metadata": {},
     "output_type": "execute_result"
    }
   ],
   "source": [
    "raw_data.groupby('PhoneService')[['tenure', 'MonthlyCharges', 'TotalCharges']].mean()"
   ]
  },
  {
   "cell_type": "markdown",
   "id": "e5c5d501",
   "metadata": {},
   "source": [
    "- `90.32%` người dùng dịch vụ cũng đăng kí PhoneService\n",
    "- Dễ dàng thấy được trung bình thời gian ở lại dịch vụ là như nhau nhưng những người đăng kí PhoneService mang lại doanh thu cao hơn cho công ty so với những người không đăng kí"
   ]
  },
  {
   "cell_type": "markdown",
   "id": "d2922384",
   "metadata": {},
   "source": [
    "## `MultipleLines`"
   ]
  },
  {
   "cell_type": "code",
   "execution_count": 34,
   "id": "901f9d02",
   "metadata": {},
   "outputs": [
    {
     "name": "stdout",
     "output_type": "stream",
     "text": [
      "No                  0.481329\n",
      "Yes                 0.421837\n",
      "No phone service    0.096834\n",
      "Name: MultipleLines, dtype: float64\n"
     ]
    },
    {
     "data": {
      "image/png": "[encoded data removed]",
      "text/plain": [
       "<Figure size 1440x576 with 2 Axes>"
      ]
     },
     "metadata": {
      "needs_background": "light"
     },
     "output_type": "display_data"
    }
   ],
   "source": [
    "analyze('MultipleLines')"
   ]
  },
  {
   "cell_type": "code",
   "execution_count": 35,
   "id": "dc9872ee",
   "metadata": {},
   "outputs": [
    {
     "data": {
      "text/html": [
       "<div>\n",
       "<style scoped>\n",
       "    .dataframe tbody tr th:only-of-type {\n",
       "        vertical-align: middle;\n",
       "    }\n",
       "\n",
       "    .dataframe tbody tr th {\n",
       "        vertical-align: top;\n",
       "    }\n",
       "\n",
       "    .dataframe thead th {\n",
       "        text-align: right;\n",
       "    }\n",
       "</style>\n",
       "<table border=\"1\" class=\"dataframe\">\n",
       "  <thead>\n",
       "    <tr style=\"text-align: right;\">\n",
       "      <th></th>\n",
       "      <th>tenure</th>\n",
       "      <th>MonthlyCharges</th>\n",
       "      <th>TotalCharges</th>\n",
       "    </tr>\n",
       "    <tr>\n",
       "      <th>MultipleLines</th>\n",
       "      <th></th>\n",
       "      <th></th>\n",
       "      <th></th>\n",
       "    </tr>\n",
       "  </thead>\n",
       "  <tbody>\n",
       "    <tr>\n",
       "      <th>No</th>\n",
       "      <td>24.134808</td>\n",
       "      <td>54.195059</td>\n",
       "      <td>1347.842153</td>\n",
       "    </tr>\n",
       "    <tr>\n",
       "      <th>No phone service</th>\n",
       "      <td>31.737537</td>\n",
       "      <td>42.028592</td>\n",
       "      <td>1496.033651</td>\n",
       "    </tr>\n",
       "    <tr>\n",
       "      <th>Yes</th>\n",
       "      <td>41.914507</td>\n",
       "      <td>82.036974</td>\n",
       "      <td>3522.951481</td>\n",
       "    </tr>\n",
       "  </tbody>\n",
       "</table>\n",
       "</div>"
      ],
      "text/plain": [
       "                     tenure  MonthlyCharges  TotalCharges\n",
       "MultipleLines                                            \n",
       "No                24.134808       54.195059   1347.842153\n",
       "No phone service  31.737537       42.028592   1496.033651\n",
       "Yes               41.914507       82.036974   3522.951481"
      ]
     },
     "execution_count": 35,
     "metadata": {},
     "output_type": "execute_result"
    }
   ],
   "source": [
    "raw_data.groupby('MultipleLines')[['tenure', 'MonthlyCharges', 'TotalCharges']].mean()"
   ]
  },
  {
   "cell_type": "markdown",
   "id": "307cb21b",
   "metadata": {},
   "source": [
    "- `42.18%` người dùng đăng kí MultipleLines, `48.13%` không đăng kí `MultipleLines`, `9.69%` còn lại không đăng kí `PhoneService` nhưng tỉ lệ rời đi tháng sau của họ lại cao hơn (`28.61%` so với `25.04%`(không đăng kí `MultipleLines`) và `24.93%`(không đăng kí `PhoneService`))\n",
    "- Doanh thu kiếm được từ những người đăng kí `MultipleLines` cũng cao hơn hẳn so với những người đăng kí 2 hình thức còn lại \n",
    "- Nhóm người đăng kí `MultipleLines` có xu hướng ở lại với công ty lâu hơn"
   ]
  },
  {
   "cell_type": "markdown",
   "id": "96d6755f",
   "metadata": {},
   "source": [
    "## `InternetService`"
   ]
  },
  {
   "cell_type": "code",
   "execution_count": 36,
   "id": "f21b0f6a",
   "metadata": {},
   "outputs": [
    {
     "data": {
      "text/plain": [
       "Fiber optic    0.439585\n",
       "DSL            0.343746\n",
       "No             0.216669\n",
       "Name: InternetService, dtype: float64"
      ]
     },
     "execution_count": 36,
     "metadata": {},
     "output_type": "execute_result"
    },
    {
     "data": {
      "image/png": "[encoded data removed]",
      "text/plain": [
       "<Figure size 432x288 with 1 Axes>"
      ]
     },
     "metadata": {
      "needs_background": "light"
     },
     "output_type": "display_data"
    }
   ],
   "source": [
    "sns.countplot(x='InternetService', data=raw_data)\n",
    "\n",
    "raw_data['InternetService'].value_counts(normalize=True)"
   ]
  },
  {
   "cell_type": "markdown",
   "id": "b9591e2d",
   "metadata": {},
   "source": [
    "Khoảng `21.67%` người dùng dịch vụ không đăng kí `InternetService`"
   ]
  },
  {
   "cell_type": "code",
   "execution_count": 37,
   "id": "54c63de8",
   "metadata": {},
   "outputs": [
    {
     "data": {
      "text/html": [
       "<div>\n",
       "<style scoped>\n",
       "    .dataframe tbody tr th:only-of-type {\n",
       "        vertical-align: middle;\n",
       "    }\n",
       "\n",
       "    .dataframe tbody tr th {\n",
       "        vertical-align: top;\n",
       "    }\n",
       "\n",
       "    .dataframe thead th {\n",
       "        text-align: right;\n",
       "    }\n",
       "</style>\n",
       "<table border=\"1\" class=\"dataframe\">\n",
       "  <thead>\n",
       "    <tr style=\"text-align: right;\">\n",
       "      <th>PhoneService</th>\n",
       "      <th>No</th>\n",
       "      <th>Yes</th>\n",
       "    </tr>\n",
       "    <tr>\n",
       "      <th>InternetService</th>\n",
       "      <th></th>\n",
       "      <th></th>\n",
       "    </tr>\n",
       "  </thead>\n",
       "  <tbody>\n",
       "    <tr>\n",
       "      <th>DSL</th>\n",
       "      <td>682</td>\n",
       "      <td>1739</td>\n",
       "    </tr>\n",
       "    <tr>\n",
       "      <th>Fiber optic</th>\n",
       "      <td>0</td>\n",
       "      <td>3096</td>\n",
       "    </tr>\n",
       "    <tr>\n",
       "      <th>No</th>\n",
       "      <td>0</td>\n",
       "      <td>1526</td>\n",
       "    </tr>\n",
       "  </tbody>\n",
       "</table>\n",
       "</div>"
      ],
      "text/plain": [
       "PhoneService      No   Yes\n",
       "InternetService           \n",
       "DSL              682  1739\n",
       "Fiber optic        0  3096\n",
       "No                 0  1526"
      ]
     },
     "execution_count": 37,
     "metadata": {},
     "output_type": "execute_result"
    }
   ],
   "source": [
    "pd.crosstab(raw_data['InternetService'], raw_data['PhoneService'])"
   ]
  },
  {
   "cell_type": "markdown",
   "id": "10855f6f",
   "metadata": {},
   "source": [
    "- Gói `Filber optic` chỉ dành cho những người đăng kí `PhoneService` nên có thể hiểu rằng đây là 1 gói cao cấp\n",
    "- Gói `DSL` khả dụng cho cả 2 nhóm đăng kí `PhoneService` hoặc không"
   ]
  },
  {
   "cell_type": "code",
   "execution_count": 38,
   "id": "04460ff7",
   "metadata": {},
   "outputs": [
    {
     "data": {
      "text/plain": [
       "<AxesSubplot:xlabel='InternetService', ylabel='count'>"
      ]
     },
     "execution_count": 38,
     "metadata": {},
     "output_type": "execute_result"
    },
    {
     "data": {
      "image/png": "[encoded data removed]",
      "text/plain": [
       "<Figure size 432x288 with 1 Axes>"
      ]
     },
     "metadata": {
      "needs_background": "light"
     },
     "output_type": "display_data"
    }
   ],
   "source": [
    "sns.countplot(x='InternetService', hue='Churn', data=raw_data)"
   ]
  },
  {
   "cell_type": "code",
   "execution_count": 39,
   "id": "e0292b44",
   "metadata": {},
   "outputs": [
    {
     "name": "stdout",
     "output_type": "stream",
     "text": [
      "                    tenure  MonthlyCharges  TotalCharges\n",
      "InternetService                                         \n",
      "DSL              32.821561       58.102169   2115.411338\n",
      "Fiber optic      32.917959       91.500129   3205.304570\n",
      "No               30.547182       21.079194    662.604784\n",
      "=========================================================\n",
      "                 tenure  MonthlyCharges  TotalCharges\n",
      "InternetService                                      \n",
      "DSL               79461       140665.35    5121410.85\n",
      "Fiber optic      101914       283284.40    9923622.95\n",
      "No                46615        32166.85    1011134.90\n"
     ]
    }
   ],
   "source": [
    "print(raw_data.groupby('InternetService')[['tenure', 'MonthlyCharges', 'TotalCharges']].mean())\n",
    "print('=========================================================')\n",
    "print(raw_data.groupby('InternetService')[['tenure', 'MonthlyCharges', 'TotalCharges']].sum())"
   ]
  },
  {
   "cell_type": "markdown",
   "id": "bc61b29d",
   "metadata": {},
   "source": [
    "- Gói `Fiber optic` đem lại doanh thu cao nhất cho công ty vì có `43.96%` lượng người đăng kí và doanh thu thu được từ những người đăng kí gói này rất cao. Nhưng giá trị mà gói này mang lại cho người dùng chưa xứng đáng vì họ có tỉ lệ rời đi vào tháng sau rất lớn với `41.89%`\n",
    "- Ngược lại, doanh thu thu được của công ty từ những người đăng kí gói `DSL` là thấp hơn nhiều nhưng những người dùng gói này khá hài lòng khi sử dụng gói vì tỉ lệ rời đi của họ thấp hơn rất nhiều với `18.96%`\n",
    "- Khoảng `21.67%` người dùng không đăng kí InternetService và tỉ lệ rời đi vào tháng sau của họ cũng thấp nhất với `7.41%` nhưng doanh thu công ty thu được từ nhóm người này thấp hơn hẳn so với nhóm người đăng kí InternetService"
   ]
  },
  {
   "cell_type": "markdown",
   "id": "a0a3c5ab",
   "metadata": {},
   "source": [
    "## `OnlineSecurity`"
   ]
  },
  {
   "cell_type": "code",
   "execution_count": 40,
   "id": "09e362ac",
   "metadata": {},
   "outputs": [
    {
     "name": "stdout",
     "output_type": "stream",
     "text": [
      "No                     0.496663\n",
      "Yes                    0.286668\n",
      "No internet service    0.216669\n",
      "Name: OnlineSecurity, dtype: float64\n"
     ]
    },
    {
     "data": {
      "image/png": "[encoded data removed]",
      "text/plain": [
       "<Figure size 1440x576 with 2 Axes>"
      ]
     },
     "metadata": {
      "needs_background": "light"
     },
     "output_type": "display_data"
    }
   ],
   "source": [
    "analyze('OnlineSecurity')"
   ]
  },
  {
   "cell_type": "markdown",
   "id": "ebf10695",
   "metadata": {},
   "source": [
    "- `49.67%` người dùng không đăng kí `OnlineSecurity` và nhóm người này có tỉ lệ rời đi rất cao\n",
    "- Nhóm người đăng kí `OnlineSecurity` khá hài lòng với chất lượng dịch vụ vì họ có tỉ lệ rời đi thấp hơn rất nhiều"
   ]
  },
  {
   "cell_type": "markdown",
   "id": "13fbd909",
   "metadata": {},
   "source": [
    "## `OnlineBackup`"
   ]
  },
  {
   "cell_type": "code",
   "execution_count": 41,
   "id": "5dff843c",
   "metadata": {},
   "outputs": [
    {
     "name": "stdout",
     "output_type": "stream",
     "text": [
      "No                     0.438450\n",
      "Yes                    0.344881\n",
      "No internet service    0.216669\n",
      "Name: OnlineBackup, dtype: float64\n"
     ]
    },
    {
     "data": {
      "image/png": "[encoded data removed]",
      "text/plain": [
       "<Figure size 1440x576 with 2 Axes>"
      ]
     },
     "metadata": {
      "needs_background": "light"
     },
     "output_type": "display_data"
    }
   ],
   "source": [
    "analyze('OnlineBackup')"
   ]
  },
  {
   "cell_type": "markdown",
   "id": "9b113be6",
   "metadata": {},
   "source": [
    "Tương tự như nhóm người đăng kí `OnelineSecurity`, nhóm người không đăng kí `OnlineBackup` chiếm nhiều nhất với `43.85%` nhưng lại có tỉ lệ rời đi vào tháng sau cao hơn rất nhiều so với nhóm người có đăng kí `OnlineBackup`"
   ]
  },
  {
   "cell_type": "markdown",
   "id": "6909bc20",
   "metadata": {},
   "source": [
    "## `DeviceProtection`"
   ]
  },
  {
   "cell_type": "code",
   "execution_count": 42,
   "id": "39b50dd1",
   "metadata": {},
   "outputs": [
    {
     "name": "stdout",
     "output_type": "stream",
     "text": [
      "No                     0.439443\n",
      "Yes                    0.343888\n",
      "No internet service    0.216669\n",
      "Name: DeviceProtection, dtype: float64\n"
     ]
    },
    {
     "data": {
      "image/png": "[encoded data removed]",
      "text/plain": [
       "<Figure size 1440x576 with 2 Axes>"
      ]
     },
     "metadata": {
      "needs_background": "light"
     },
     "output_type": "display_data"
    }
   ],
   "source": [
    "analyze('DeviceProtection')"
   ]
  },
  {
   "cell_type": "markdown",
   "id": "77a32a57",
   "metadata": {},
   "source": [
    "Cũng tương tự như 2 nhóm trên, nhóm người không đăng kí `DeviceProtection` chiếm nhiều nhất với `43.94%` nhưng lại có tỉ lệ rời đi vào tháng sau cao hơn rất nhiều so với nhóm người có đăng kí `DeviceProtection`"
   ]
  },
  {
   "cell_type": "markdown",
   "id": "ee314403",
   "metadata": {},
   "source": [
    "## `TechSupport`"
   ]
  },
  {
   "cell_type": "code",
   "execution_count": 43,
   "id": "05569e6a",
   "metadata": {},
   "outputs": [
    {
     "name": "stdout",
     "output_type": "stream",
     "text": [
      "No                     0.493114\n",
      "Yes                    0.290217\n",
      "No internet service    0.216669\n",
      "Name: TechSupport, dtype: float64\n"
     ]
    },
    {
     "data": {
      "image/png": "[encoded data removed]",
      "text/plain": [
       "<Figure size 1440x576 with 2 Axes>"
      ]
     },
     "metadata": {
      "needs_background": "light"
     },
     "output_type": "display_data"
    }
   ],
   "source": [
    "analyze('TechSupport')"
   ]
  },
  {
   "cell_type": "markdown",
   "id": "7db56636",
   "metadata": {},
   "source": [
    "Nhóm người không đăng kí `TechSupport` chiếm nhiều nhất với `49.31%` nhưng lại có tỉ lệ rời đi vào tháng sau cao hơn rất nhiều so với nhóm người có đăng kí `TechSupport`"
   ]
  },
  {
   "cell_type": "markdown",
   "id": "bd77d763",
   "metadata": {},
   "source": [
    "## `StreamingTV`"
   ]
  },
  {
   "cell_type": "code",
   "execution_count": 44,
   "id": "51049e44",
   "metadata": {},
   "outputs": [
    {
     "name": "stdout",
     "output_type": "stream",
     "text": [
      "No                     0.398978\n",
      "Yes                    0.384353\n",
      "No internet service    0.216669\n",
      "Name: StreamingTV, dtype: float64\n"
     ]
    },
    {
     "data": {
      "image/png": "[encoded data removed]",
      "text/plain": [
       "<Figure size 1440x576 with 2 Axes>"
      ]
     },
     "metadata": {
      "needs_background": "light"
     },
     "output_type": "display_data"
    }
   ],
   "source": [
    "analyze('StreamingTV')"
   ]
  },
  {
   "cell_type": "code",
   "execution_count": 45,
   "id": "c1c2397d",
   "metadata": {},
   "outputs": [
    {
     "name": "stdout",
     "output_type": "stream",
     "text": [
      "                        tenure  MonthlyCharges  TotalCharges\n",
      "StreamingTV                                                 \n",
      "No                   24.985409       65.387687   1734.790214\n",
      "No internet service  30.547182       21.079194    662.604784\n",
      "Yes                  41.066125       88.736738   3757.027447\n",
      "=============================================================\n",
      "                     tenure  MonthlyCharges  TotalCharges\n",
      "StreamingTV                                              \n",
      "No                    70209       183739.40     4874760.5\n",
      "No internet service   46615        32166.85     1011134.9\n",
      "Yes                  111166       240210.35    10170273.3\n"
     ]
    }
   ],
   "source": [
    "print(raw_data.groupby('StreamingTV')[['tenure', 'MonthlyCharges', 'TotalCharges']].mean())\n",
    "print('=============================================================')\n",
    "print(raw_data.groupby('StreamingTV')[['tenure', 'MonthlyCharges', 'TotalCharges']].sum())"
   ]
  },
  {
   "cell_type": "markdown",
   "id": "8e582221",
   "metadata": {},
   "source": [
    "- Khác với những nhóm dịch vụ trên, lượng người dùng đăng kí `StreamingTV` là khá cao với `38.43%` nhưng cũng có tỉ lệ rời đi vào tháng sau khá cao\n",
    "- Những người đăng kí `StreamingTV` có xu hướng ở lại lâu hơn"
   ]
  },
  {
   "cell_type": "markdown",
   "id": "df19fcc7",
   "metadata": {},
   "source": [
    "## `StreamingMovies`"
   ]
  },
  {
   "cell_type": "code",
   "execution_count": 46,
   "id": "3c94654f",
   "metadata": {},
   "outputs": [
    {
     "name": "stdout",
     "output_type": "stream",
     "text": [
      "No                     0.395428\n",
      "Yes                    0.387903\n",
      "No internet service    0.216669\n",
      "Name: StreamingMovies, dtype: float64\n"
     ]
    },
    {
     "data": {
      "image/png": "[encoded data removed]",
      "text/plain": [
       "<Figure size 1440x576 with 2 Axes>"
      ]
     },
     "metadata": {
      "needs_background": "light"
     },
     "output_type": "display_data"
    }
   ],
   "source": [
    "analyze('StreamingMovies')"
   ]
  },
  {
   "cell_type": "code",
   "execution_count": 47,
   "id": "a81ded6b",
   "metadata": {},
   "outputs": [
    {
     "name": "stdout",
     "output_type": "stream",
     "text": [
      "                        tenure  MonthlyCharges  TotalCharges\n",
      "StreamingMovies                                             \n",
      "No                   24.712388       65.434147   1713.068007\n",
      "No internet service  30.547182       21.079194    662.604784\n",
      "Yes                  41.197291       88.475714   3760.665959\n",
      "=============================================================\n",
      "                     tenure  MonthlyCharges  TotalCharges\n",
      "StreamingMovies                                          \n",
      "No                    68824       182234.10     4770894.4\n",
      "No internet service   46615        32166.85     1011134.9\n",
      "Yes                  112551       241715.65    10274139.4\n"
     ]
    }
   ],
   "source": [
    "print(raw_data.groupby('StreamingMovies')[['tenure', 'MonthlyCharges', 'TotalCharges']].mean())\n",
    "print('=============================================================')\n",
    "print(raw_data.groupby('StreamingMovies')[['tenure', 'MonthlyCharges', 'TotalCharges']].sum())"
   ]
  },
  {
   "cell_type": "code",
   "execution_count": 48,
   "id": "2ca6f115",
   "metadata": {},
   "outputs": [
    {
     "data": {
      "text/plain": [
       "StreamingTV          StreamingMovies    \n",
       "No                   No                     2018\n",
       "                     Yes                     792\n",
       "No internet service  No internet service    1526\n",
       "Yes                  Yes                    1940\n",
       "                     No                      767\n",
       "Name: StreamingMovies, dtype: int64"
      ]
     },
     "execution_count": 48,
     "metadata": {},
     "output_type": "execute_result"
    }
   ],
   "source": [
    "raw_data.groupby('StreamingTV')['StreamingMovies'].value_counts()"
   ]
  },
  {
   "cell_type": "markdown",
   "id": "e56f1186",
   "metadata": {},
   "source": [
    "- Tương tự với nhóm người dùng đăng kí `StreamingTV`, lượng người dùng đăng kí `StreamingMovies` là khá cao với `38.79%` nhưng cũng có tỉ lệ rời đi vào tháng sau khá cao\n",
    "- Những người đăng kí `StreamingMovies` có xu hướng ở lại lâu hơn\n",
    "- Người dùng có xu hướng đăng kí `StreamingTV` và `StreamingMovies` chung với nhau"
   ]
  },
  {
   "cell_type": "markdown",
   "id": "d38da535",
   "metadata": {},
   "source": [
    "## `Contract`"
   ]
  },
  {
   "cell_type": "code",
   "execution_count": 49,
   "id": "35d4adf0",
   "metadata": {},
   "outputs": [
    {
     "name": "stdout",
     "output_type": "stream",
     "text": [
      "Month-to-month    0.550192\n",
      "Two year          0.240664\n",
      "One year          0.209144\n",
      "Name: Contract, dtype: float64\n"
     ]
    },
    {
     "data": {
      "image/png": "[encoded data removed]",
      "text/plain": [
       "<Figure size 1440x576 with 2 Axes>"
      ]
     },
     "metadata": {
      "needs_background": "light"
     },
     "output_type": "display_data"
    }
   ],
   "source": [
    "analyze('Contract')"
   ]
  },
  {
   "cell_type": "markdown",
   "id": "f3e04a5c",
   "metadata": {},
   "source": [
    "- Dễ dàng thấy được nhóm người đăng kí `Contract` theo tháng chiếm nhiều nhất nhưng cũng là nhóm người dễ rời đi nhất\n",
    "- Nhóm người đăng kí `Contract` 1 năm và 2 năm có tỷ lệ rời đi rất ý\n",
    "- Khá ngạc nhiên là tỷ lệ người dùng đăng kí gói `Contract` 2 năm lại nhiều hơn gói 1 năm (`24.1%` vs `20.91%`)"
   ]
  },
  {
   "cell_type": "markdown",
   "id": "3c45d0b8",
   "metadata": {},
   "source": [
    "## `PaperlessBilling`"
   ]
  },
  {
   "cell_type": "code",
   "execution_count": 50,
   "id": "23b52dce",
   "metadata": {},
   "outputs": [
    {
     "name": "stdout",
     "output_type": "stream",
     "text": [
      "Yes    0.592219\n",
      "No     0.407781\n",
      "Name: PaperlessBilling, dtype: float64\n"
     ]
    },
    {
     "data": {
      "image/png": "[encoded data removed]",
      "text/plain": [
       "<Figure size 1440x576 with 2 Axes>"
      ]
     },
     "metadata": {
      "needs_background": "light"
     },
     "output_type": "display_data"
    }
   ],
   "source": [
    "analyze('PaperlessBilling')"
   ]
  },
  {
   "cell_type": "code",
   "execution_count": 51,
   "id": "b79854f4",
   "metadata": {},
   "outputs": [
    {
     "data": {
      "text/html": [
       "<div>\n",
       "<style scoped>\n",
       "    .dataframe tbody tr th:only-of-type {\n",
       "        vertical-align: middle;\n",
       "    }\n",
       "\n",
       "    .dataframe tbody tr th {\n",
       "        vertical-align: top;\n",
       "    }\n",
       "\n",
       "    .dataframe thead th {\n",
       "        text-align: right;\n",
       "    }\n",
       "</style>\n",
       "<table border=\"1\" class=\"dataframe\">\n",
       "  <thead>\n",
       "    <tr style=\"text-align: right;\">\n",
       "      <th></th>\n",
       "      <th>tenure</th>\n",
       "      <th>MonthlyCharges</th>\n",
       "      <th>TotalCharges</th>\n",
       "    </tr>\n",
       "    <tr>\n",
       "      <th>PaperlessBilling</th>\n",
       "      <th></th>\n",
       "      <th></th>\n",
       "      <th></th>\n",
       "    </tr>\n",
       "  </thead>\n",
       "  <tbody>\n",
       "    <tr>\n",
       "      <th>No</th>\n",
       "      <td>32.189067</td>\n",
       "      <td>51.992967</td>\n",
       "      <td>1846.580449</td>\n",
       "    </tr>\n",
       "    <tr>\n",
       "      <th>Yes</th>\n",
       "      <td>32.496524</td>\n",
       "      <td>73.553776</td>\n",
       "      <td>2577.988408</td>\n",
       "    </tr>\n",
       "  </tbody>\n",
       "</table>\n",
       "</div>"
      ],
      "text/plain": [
       "                     tenure  MonthlyCharges  TotalCharges\n",
       "PaperlessBilling                                         \n",
       "No                32.189067       51.992967   1846.580449\n",
       "Yes               32.496524       73.553776   2577.988408"
      ]
     },
     "execution_count": 51,
     "metadata": {},
     "output_type": "execute_result"
    }
   ],
   "source": [
    "raw_data.groupby('PaperlessBilling')[['tenure', 'MonthlyCharges', 'TotalCharges']].mean()"
   ]
  },
  {
   "cell_type": "markdown",
   "id": "dcc1401c",
   "metadata": {},
   "source": [
    "- `59.22%` người dùng dịch vụ đăng kí `PaperlessBilling`\n",
    "- Gói `PaperlessBilling` không mang lại nhiều giá trị cho người đăng kí vì họ có xu hướng rời đi vào tháng sau cao hơn\n",
    "- Nhóm người đăng kí `PaperlessBilling` cũng không có xu hướng ở lại với công ty lâu hơn"
   ]
  },
  {
   "cell_type": "markdown",
   "id": "60ac213d",
   "metadata": {},
   "source": [
    "## `PaymentMethod`"
   ]
  },
  {
   "cell_type": "code",
   "execution_count": 52,
   "id": "f1614722",
   "metadata": {},
   "outputs": [
    {
     "name": "stdout",
     "output_type": "stream",
     "text": [
      "Electronic check             0.335794\n",
      "Mailed check                 0.228880\n",
      "Bank transfer (automatic)    0.219225\n",
      "Credit card (automatic)      0.216101\n",
      "Name: PaymentMethod, dtype: float64\n"
     ]
    },
    {
     "data": {
      "image/png": "[encoded data removed]",
      "text/plain": [
       "<Figure size 1440x576 with 2 Axes>"
      ]
     },
     "metadata": {
      "needs_background": "light"
     },
     "output_type": "display_data"
    }
   ],
   "source": [
    "analyze('PaymentMethod')"
   ]
  },
  {
   "cell_type": "code",
   "execution_count": 53,
   "id": "e09d6046",
   "metadata": {},
   "outputs": [
    {
     "data": {
      "text/plain": [
       "Churn  PaymentMethod            \n",
       "No     Mailed check                 1304\n",
       "       Electronic check             1294\n",
       "       Credit card (automatic)      1290\n",
       "       Bank transfer (automatic)    1286\n",
       "Yes    Electronic check             1071\n",
       "       Mailed check                  308\n",
       "       Bank transfer (automatic)     258\n",
       "       Credit card (automatic)       232\n",
       "Name: PaymentMethod, dtype: int64"
      ]
     },
     "execution_count": 53,
     "metadata": {},
     "output_type": "execute_result"
    }
   ],
   "source": [
    "raw_data.groupby('Churn')['PaymentMethod'].value_counts()"
   ]
  },
  {
   "cell_type": "code",
   "execution_count": 54,
   "id": "0ff4c5a8",
   "metadata": {},
   "outputs": [
    {
     "data": {
      "text/html": [
       "<div>\n",
       "<style scoped>\n",
       "    .dataframe tbody tr th:only-of-type {\n",
       "        vertical-align: middle;\n",
       "    }\n",
       "\n",
       "    .dataframe tbody tr th {\n",
       "        vertical-align: top;\n",
       "    }\n",
       "\n",
       "    .dataframe thead th {\n",
       "        text-align: right;\n",
       "    }\n",
       "</style>\n",
       "<table border=\"1\" class=\"dataframe\">\n",
       "  <thead>\n",
       "    <tr style=\"text-align: right;\">\n",
       "      <th></th>\n",
       "      <th>tenure</th>\n",
       "      <th>MonthlyCharges</th>\n",
       "      <th>TotalCharges</th>\n",
       "    </tr>\n",
       "    <tr>\n",
       "      <th>PaymentMethod</th>\n",
       "      <th></th>\n",
       "      <th></th>\n",
       "      <th></th>\n",
       "    </tr>\n",
       "  </thead>\n",
       "  <tbody>\n",
       "    <tr>\n",
       "      <th>Bank transfer (automatic)</th>\n",
       "      <td>67406</td>\n",
       "      <td>103745.45</td>\n",
       "      <td>4748279.90</td>\n",
       "    </tr>\n",
       "    <tr>\n",
       "      <th>Credit card (automatic)</th>\n",
       "      <td>65856</td>\n",
       "      <td>101231.85</td>\n",
       "      <td>4671593.35</td>\n",
       "    </tr>\n",
       "    <tr>\n",
       "      <th>Electronic check</th>\n",
       "      <td>59538</td>\n",
       "      <td>180345.00</td>\n",
       "      <td>4944903.25</td>\n",
       "    </tr>\n",
       "    <tr>\n",
       "      <th>Mailed check</th>\n",
       "      <td>35190</td>\n",
       "      <td>70794.30</td>\n",
       "      <td>1691392.20</td>\n",
       "    </tr>\n",
       "  </tbody>\n",
       "</table>\n",
       "</div>"
      ],
      "text/plain": [
       "                           tenure  MonthlyCharges  TotalCharges\n",
       "PaymentMethod                                                  \n",
       "Bank transfer (automatic)   67406       103745.45    4748279.90\n",
       "Credit card (automatic)     65856       101231.85    4671593.35\n",
       "Electronic check            59538       180345.00    4944903.25\n",
       "Mailed check                35190        70794.30    1691392.20"
      ]
     },
     "execution_count": 54,
     "metadata": {},
     "output_type": "execute_result"
    }
   ],
   "source": [
    "raw_data.groupby('PaymentMethod')[['tenure', 'MonthlyCharges', 'TotalCharges']].sum()"
   ]
  },
  {
   "cell_type": "markdown",
   "id": "16e87dd6",
   "metadata": {},
   "source": [
    "- `33.58%` người dùng đăng kí Electronic check, `22.89%` cho Mailed check, `21.92%` cho Bank transfer và `21.61%` cho Credit card\n",
    "- Doanh thu từ gói `Electronic check` là cao nhất với lượng người dùng lớn\n",
    "- Tỉ lệ rời đi của người dùng đăng kí gói `Electronic check` là cao nhất với `45.29%`\n",
    "- 2 gói automatic là `Bank transfer` và `Credit card` có chất lượng dịch vụ hơn vì có người dùng có xu hướng ở lại với công ty lâu hơn\n",
    "- Gói `Mailed check` mang lại thu nhập thấp nhất cho công ty cùng với xu hướng người dùng ở lại với công ty không lâu so với các gói còn lại"
   ]
  },
  {
   "cell_type": "markdown",
   "id": "4aa5f6fb",
   "metadata": {},
   "source": [
    "## `MonthlyCharges` & `TotalCharges`"
   ]
  },
  {
   "cell_type": "code",
   "execution_count": 55,
   "id": "9835cdaf",
   "metadata": {},
   "outputs": [
    {
     "data": {
      "text/plain": [
       "<AxesSubplot:xlabel='MonthlyCharges', ylabel='TotalCharges'>"
      ]
     },
     "execution_count": 55,
     "metadata": {},
     "output_type": "execute_result"
    },
    {
     "data": {
      "image/png": "[encoded data removed]",
      "text/plain": [
       "<Figure size 1224x504 with 4 Axes>"
      ]
     },
     "metadata": {
      "needs_background": "light"
     },
     "output_type": "display_data"
    }
   ],
   "source": [
    "fig, ax = plt.subplots(2, 2, figsize=(17,7))\n",
    "\n",
    "sns.regplot(x='tenure', y='MonthlyCharges', data=raw_data, ax=ax[0,0])\n",
    "sns.regplot(x='tenure', y='TotalCharges', data=raw_data, ax=ax[0,1])\n",
    "sns.regplot(x='MonthlyCharges', y='TotalCharges', data=raw_data, ax=ax[1,0])"
   ]
  },
  {
   "cell_type": "code",
   "execution_count": 56,
   "id": "37cb2c26",
   "metadata": {},
   "outputs": [
    {
     "data": {
      "text/plain": [
       "<AxesSubplot:>"
      ]
     },
     "execution_count": 56,
     "metadata": {},
     "output_type": "execute_result"
    },
    {
     "data": {
      "image/png": "[encoded data removed]",
      "text/plain": [
       "<Figure size 432x288 with 2 Axes>"
      ]
     },
     "metadata": {
      "needs_background": "light"
     },
     "output_type": "display_data"
    }
   ],
   "source": [
    "sns.heatmap(raw_data[['tenure', 'MonthlyCharges', 'TotalCharges']].corr(), annot=True, cmap='viridis')"
   ]
  },
  {
   "cell_type": "code",
   "execution_count": 57,
   "id": "a7403b4e",
   "metadata": {},
   "outputs": [
    {
     "data": {
      "text/plain": [
       "<AxesSubplot:xlabel='TotalCharges', ylabel='Density'>"
      ]
     },
     "execution_count": 57,
     "metadata": {},
     "output_type": "execute_result"
    },
    {
     "data": {
      "image/png": "[encoded data removed]",
      "text/plain": [
       "<Figure size 1224x360 with 2 Axes>"
      ]
     },
     "metadata": {
      "needs_background": "light"
     },
     "output_type": "display_data"
    }
   ],
   "source": [
    "fig, ax = plt.subplots(1, 2, figsize=(17,5))\n",
    "\n",
    "sns.kdeplot(x='MonthlyCharges', hue='Churn', data=raw_data, shade=True, ax=ax[0])\n",
    "sns.kdeplot(x='TotalCharges', hue='Churn', data=raw_data, shade=True, ax=ax[1])"
   ]
  },
  {
   "cell_type": "markdown",
   "id": "2310819a",
   "metadata": {},
   "source": [
    "- Có thể thấy được mối quan hệ giữa `tenure`, `MonthlyCharges`, `TotalCharges` là `linear` và có mối tương quan dương\n",
    "- Mối tương quan giữa `tenure` và `TotalCharges` mạnh hơn giữa `tenure` và `MonthlyCharges` rất nhiều\n",
    "- Những người có xu hướng rời đi cung cấp doanh thu cho công ty thấp hơn rất nhiều\n",
    "- Có thể thấy được những trung bình số tiền chi tiêu của những người có xu hướng rời đi lại cao hơn những người có xu hướng ở lại với công ty"
   ]
  },
  {
   "cell_type": "markdown",
   "id": "3869d37b",
   "metadata": {},
   "source": [
    "## `Num of Services`"
   ]
  },
  {
   "cell_type": "code",
   "execution_count": 58,
   "id": "3966641b",
   "metadata": {},
   "outputs": [
    {
     "data": {
      "text/html": [
       "<div>\n",
       "<style scoped>\n",
       "    .dataframe tbody tr th:only-of-type {\n",
       "        vertical-align: middle;\n",
       "    }\n",
       "\n",
       "    .dataframe tbody tr th {\n",
       "        vertical-align: top;\n",
       "    }\n",
       "\n",
       "    .dataframe thead th {\n",
       "        text-align: right;\n",
       "    }\n",
       "</style>\n",
       "<table border=\"1\" class=\"dataframe\">\n",
       "  <thead>\n",
       "    <tr style=\"text-align: right;\">\n",
       "      <th></th>\n",
       "      <th>customerID</th>\n",
       "      <th>gender</th>\n",
       "      <th>SeniorCitizen</th>\n",
       "      <th>Partner</th>\n",
       "      <th>Dependents</th>\n",
       "      <th>tenure</th>\n",
       "      <th>PhoneService</th>\n",
       "      <th>MultipleLines</th>\n",
       "      <th>InternetService</th>\n",
       "      <th>OnlineSecurity</th>\n",
       "      <th>...</th>\n",
       "      <th>DeviceProtection</th>\n",
       "      <th>TechSupport</th>\n",
       "      <th>StreamingTV</th>\n",
       "      <th>StreamingMovies</th>\n",
       "      <th>Contract</th>\n",
       "      <th>PaperlessBilling</th>\n",
       "      <th>PaymentMethod</th>\n",
       "      <th>MonthlyCharges</th>\n",
       "      <th>TotalCharges</th>\n",
       "      <th>Churn</th>\n",
       "    </tr>\n",
       "  </thead>\n",
       "  <tbody>\n",
       "    <tr>\n",
       "      <th>0</th>\n",
       "      <td>7590-VHVEG</td>\n",
       "      <td>Female</td>\n",
       "      <td>0</td>\n",
       "      <td>Yes</td>\n",
       "      <td>No</td>\n",
       "      <td>1</td>\n",
       "      <td>No</td>\n",
       "      <td>No phone service</td>\n",
       "      <td>DSL</td>\n",
       "      <td>No</td>\n",
       "      <td>...</td>\n",
       "      <td>No</td>\n",
       "      <td>No</td>\n",
       "      <td>No</td>\n",
       "      <td>No</td>\n",
       "      <td>Month-to-month</td>\n",
       "      <td>Yes</td>\n",
       "      <td>Electronic check</td>\n",
       "      <td>29.85</td>\n",
       "      <td>29.85</td>\n",
       "      <td>No</td>\n",
       "    </tr>\n",
       "    <tr>\n",
       "      <th>1</th>\n",
       "      <td>5575-GNVDE</td>\n",
       "      <td>Male</td>\n",
       "      <td>0</td>\n",
       "      <td>No</td>\n",
       "      <td>No</td>\n",
       "      <td>34</td>\n",
       "      <td>Yes</td>\n",
       "      <td>No</td>\n",
       "      <td>DSL</td>\n",
       "      <td>Yes</td>\n",
       "      <td>...</td>\n",
       "      <td>Yes</td>\n",
       "      <td>No</td>\n",
       "      <td>No</td>\n",
       "      <td>No</td>\n",
       "      <td>One year</td>\n",
       "      <td>No</td>\n",
       "      <td>Mailed check</td>\n",
       "      <td>56.95</td>\n",
       "      <td>1889.50</td>\n",
       "      <td>No</td>\n",
       "    </tr>\n",
       "    <tr>\n",
       "      <th>2</th>\n",
       "      <td>3668-QPYBK</td>\n",
       "      <td>Male</td>\n",
       "      <td>0</td>\n",
       "      <td>No</td>\n",
       "      <td>No</td>\n",
       "      <td>2</td>\n",
       "      <td>Yes</td>\n",
       "      <td>No</td>\n",
       "      <td>DSL</td>\n",
       "      <td>Yes</td>\n",
       "      <td>...</td>\n",
       "      <td>No</td>\n",
       "      <td>No</td>\n",
       "      <td>No</td>\n",
       "      <td>No</td>\n",
       "      <td>Month-to-month</td>\n",
       "      <td>Yes</td>\n",
       "      <td>Mailed check</td>\n",
       "      <td>53.85</td>\n",
       "      <td>108.15</td>\n",
       "      <td>Yes</td>\n",
       "    </tr>\n",
       "    <tr>\n",
       "      <th>3</th>\n",
       "      <td>7795-CFOCW</td>\n",
       "      <td>Male</td>\n",
       "      <td>0</td>\n",
       "      <td>No</td>\n",
       "      <td>No</td>\n",
       "      <td>45</td>\n",
       "      <td>No</td>\n",
       "      <td>No phone service</td>\n",
       "      <td>DSL</td>\n",
       "      <td>Yes</td>\n",
       "      <td>...</td>\n",
       "      <td>Yes</td>\n",
       "      <td>Yes</td>\n",
       "      <td>No</td>\n",
       "      <td>No</td>\n",
       "      <td>One year</td>\n",
       "      <td>No</td>\n",
       "      <td>Bank transfer (automatic)</td>\n",
       "      <td>42.30</td>\n",
       "      <td>1840.75</td>\n",
       "      <td>No</td>\n",
       "    </tr>\n",
       "    <tr>\n",
       "      <th>4</th>\n",
       "      <td>9237-HQITU</td>\n",
       "      <td>Female</td>\n",
       "      <td>0</td>\n",
       "      <td>No</td>\n",
       "      <td>No</td>\n",
       "      <td>2</td>\n",
       "      <td>Yes</td>\n",
       "      <td>No</td>\n",
       "      <td>Fiber optic</td>\n",
       "      <td>No</td>\n",
       "      <td>...</td>\n",
       "      <td>No</td>\n",
       "      <td>No</td>\n",
       "      <td>No</td>\n",
       "      <td>No</td>\n",
       "      <td>Month-to-month</td>\n",
       "      <td>Yes</td>\n",
       "      <td>Electronic check</td>\n",
       "      <td>70.70</td>\n",
       "      <td>151.65</td>\n",
       "      <td>Yes</td>\n",
       "    </tr>\n",
       "  </tbody>\n",
       "</table>\n",
       "<p>5 rows × 21 columns</p>\n",
       "</div>"
      ],
      "text/plain": [
       "   customerID  gender SeniorCitizen Partner Dependents  tenure PhoneService  \\\n",
       "0  7590-VHVEG  Female             0     Yes         No       1           No   \n",
       "1  5575-GNVDE    Male             0      No         No      34          Yes   \n",
       "2  3668-QPYBK    Male             0      No         No       2          Yes   \n",
       "3  7795-CFOCW    Male             0      No         No      45           No   \n",
       "4  9237-HQITU  Female             0      No         No       2          Yes   \n",
       "\n",
       "      MultipleLines InternetService OnlineSecurity  ... DeviceProtection  \\\n",
       "0  No phone service             DSL             No  ...               No   \n",
       "1                No             DSL            Yes  ...              Yes   \n",
       "2                No             DSL            Yes  ...               No   \n",
       "3  No phone service             DSL            Yes  ...              Yes   \n",
       "4                No     Fiber optic             No  ...               No   \n",
       "\n",
       "  TechSupport StreamingTV StreamingMovies        Contract PaperlessBilling  \\\n",
       "0          No          No              No  Month-to-month              Yes   \n",
       "1          No          No              No        One year               No   \n",
       "2          No          No              No  Month-to-month              Yes   \n",
       "3         Yes          No              No        One year               No   \n",
       "4          No          No              No  Month-to-month              Yes   \n",
       "\n",
       "               PaymentMethod MonthlyCharges  TotalCharges  Churn  \n",
       "0           Electronic check          29.85         29.85     No  \n",
       "1               Mailed check          56.95       1889.50     No  \n",
       "2               Mailed check          53.85        108.15    Yes  \n",
       "3  Bank transfer (automatic)          42.30       1840.75     No  \n",
       "4           Electronic check          70.70        151.65    Yes  \n",
       "\n",
       "[5 rows x 21 columns]"
      ]
     },
     "execution_count": 58,
     "metadata": {},
     "output_type": "execute_result"
    }
   ],
   "source": [
    "raw_data.head()"
   ]
  },
  {
   "cell_type": "code",
   "execution_count": 59,
   "id": "37005423",
   "metadata": {},
   "outputs": [],
   "source": [
    "# Bỏ `Contract` và `PaymentMethod`\n",
    "temp_data = raw_data.copy()\n",
    "\n",
    "temp_data['PhoneService'] = temp_data['PhoneService'].map({'Yes':1, 'No':0})\n",
    "temp_data['MultipleLines'] = temp_data['MultipleLines'].map({'No phone service':0, 'No':0, 'Yes':1})\n",
    "temp_data['InternetService'] = temp_data['InternetService'].map({'DSL':1, 'Fiber optic':1, 'No':0})\n",
    "temp_data['OnlineSecurity'] = temp_data['OnlineSecurity'].map({'No':0, 'No internet service':0, 'Yes':1})\n",
    "temp_data['OnlineBackup'] = temp_data['OnlineBackup'].map({'No':0, 'No internet service':0, 'Yes':1})\n",
    "temp_data['DeviceProtection'] = temp_data['DeviceProtection'].map({'No':0, 'No internet service':0, 'Yes':1})\n",
    "temp_data['TechSupport'] = temp_data['TechSupport'].map({'No':0, 'No internet service':0, 'Yes':1})\n",
    "temp_data['StreamingTV'] = temp_data['StreamingTV'].map({'No':0, 'No internet service':0, 'Yes':1})\n",
    "temp_data['StreamingMovies'] = temp_data['StreamingMovies'].map({'No':0, 'No internet service':0, 'Yes':1})\n",
    "temp_data['PaperlessBilling'] = temp_data['PaperlessBilling'].map({'No':0, 'Yes':1})"
   ]
  },
  {
   "cell_type": "code",
   "execution_count": 60,
   "id": "7e7b984e",
   "metadata": {},
   "outputs": [],
   "source": [
    "temp_data['Num of Services'] = temp_data['PhoneService'] + temp_data['MultipleLines'] + temp_data['InternetService'] + temp_data['OnlineSecurity'] + temp_data['OnlineBackup'] + temp_data['DeviceProtection'] + temp_data['TechSupport'] + temp_data['StreamingTV'] + temp_data['StreamingTV'] + temp_data['PaperlessBilling']"
   ]
  },
  {
   "cell_type": "code",
   "execution_count": 61,
   "id": "9a4ef6f3",
   "metadata": {},
   "outputs": [
    {
     "data": {
      "text/plain": [
       "<AxesSubplot:xlabel='Num of Services', ylabel='count'>"
      ]
     },
     "execution_count": 61,
     "metadata": {},
     "output_type": "execute_result"
    },
    {
     "data": {
      "image/png": "[encoded data removed]",
      "text/plain": [
       "<Figure size 432x288 with 1 Axes>"
      ]
     },
     "metadata": {
      "needs_background": "light"
     },
     "output_type": "display_data"
    }
   ],
   "source": [
    "sns.countplot(x='Num of Services', data=temp_data)"
   ]
  },
  {
   "cell_type": "code",
   "execution_count": 62,
   "id": "63061731",
   "metadata": {},
   "outputs": [
    {
     "data": {
      "text/plain": [
       "<AxesSubplot:xlabel='Num of Services', ylabel='count'>"
      ]
     },
     "execution_count": 62,
     "metadata": {},
     "output_type": "execute_result"
    },
    {
     "data": {
      "image/png": "[encoded data removed]",
      "text/plain": [
       "<Figure size 432x288 with 1 Axes>"
      ]
     },
     "metadata": {
      "needs_background": "light"
     },
     "output_type": "display_data"
    }
   ],
   "source": [
    "sns.countplot(x='Num of Services', hue='Churn', data=temp_data)"
   ]
  },
  {
   "cell_type": "code",
   "execution_count": 63,
   "id": "6b799409",
   "metadata": {},
   "outputs": [
    {
     "name": "stdout",
     "output_type": "stream",
     "text": [
      "                    tenure  MonthlyCharges  TotalCharges\n",
      "Num of Services                                         \n",
      "1                25.057842       20.227586    502.416352\n",
      "2                26.528049       30.340366    683.929268\n",
      "3                18.972903       53.401935    838.780452\n",
      "4                20.889140       64.774887   1320.470136\n",
      "5                27.223443       72.096337   1915.641941\n",
      "6                34.676211       80.818502   2743.675551\n",
      "7                40.688312       87.733117   3544.881688\n",
      "8                51.469673       94.916796   4883.492146\n",
      "9                60.245383      100.337731   6047.262137\n",
      "10               65.068493      105.214384   6880.815753\n",
      "==========================================================\n",
      "                 tenure  MonthlyCharges  TotalCharges\n",
      "Num of Services                                      \n",
      "1                 22527         18184.6     451672.30\n",
      "2                 21753         24879.1     560822.00\n",
      "3                 14704         41386.5     650054.85\n",
      "4                 18466         57261.0    1167295.60\n",
      "5                 22296         59046.9    1568910.75\n",
      "6                 31486         73383.2    2491257.40\n",
      "7                 31330         67554.5    2729558.90\n",
      "8                 33095         61031.5    3140085.45\n",
      "9                 22833         38028.0    2291912.35\n",
      "10                 9500         15361.3    1004599.10\n"
     ]
    }
   ],
   "source": [
    "print(temp_data.groupby('Num of Services')[['tenure', 'MonthlyCharges', 'TotalCharges']].mean())\n",
    "print('==========================================================')\n",
    "print(temp_data.groupby('Num of Services')[['tenure', 'MonthlyCharges', 'TotalCharges']].sum())"
   ]
  },
  {
   "cell_type": "markdown",
   "id": "7403449f",
   "metadata": {},
   "source": [
    "- Tỉ lệ người dùng đăng kí chỉ 1 dịch vụ là cao nhất, tỉ lệ người dùng đăng kí đầy đủ 10 dịch vụ là thấp nhất\n",
    "- Dễ dàng thấy được những người có số lượng dịch vụ đăng kí nhiều hơn sẽ ở lại với công ty lâu hơn cùng với cung cấp doanh thu theo tháng bộ cho công ty nhiều hơn\n",
    "- Tỉ lệ rời đi theo số lượng dịch vụ đăng kí lại là biểu đồ hình chuông: người dùng có tỉ lệ rời đi nhiều nhất lại ở khoảng 5-8 dịch vụ được đăng kí\n",
    "- Ngược lại, những người đăng kí khoảng 1-2 hoặc 8-9 dịch vụ có tỉ lệ rời đi thấp so với nhóm người đăng kí từ 3-7 dịch vụ và nhóm người đăng kí đầy đủ 10 dịch vụ có tỉ lệ rời đi thấp nhất\n",
    "- Có thể thấy được dù tỉ lệ người dùng đăng kí 10 dịch vụ là thấp nhất nhưng doanh thu thu được từ nhóm người này cao hơn nhóm người đăng kí từ 1-3 dịch vụ hàng tháng. Cùng với đó, mặc dù tỉ lệ người dùng đăng kí chỉ 1 dịch vụ là nhiều nhất nhưng doanh thu mà công ty kiếm được từ họ là thấp nhất\n",
    "- Doanh thu của nhóm người đăng kí từ 6-9 dịch vụ là cao nhất"
   ]
  },
  {
   "cell_type": "markdown",
   "id": "5e7054d1",
   "metadata": {},
   "source": [
    "# Modeling"
   ]
  },
  {
   "cell_type": "code",
   "execution_count": 64,
   "id": "f6a45ecd",
   "metadata": {},
   "outputs": [
    {
     "data": {
      "text/html": [
       "<div>\n",
       "<style scoped>\n",
       "    .dataframe tbody tr th:only-of-type {\n",
       "        vertical-align: middle;\n",
       "    }\n",
       "\n",
       "    .dataframe tbody tr th {\n",
       "        vertical-align: top;\n",
       "    }\n",
       "\n",
       "    .dataframe thead th {\n",
       "        text-align: right;\n",
       "    }\n",
       "</style>\n",
       "<table border=\"1\" class=\"dataframe\">\n",
       "  <thead>\n",
       "    <tr style=\"text-align: right;\">\n",
       "      <th></th>\n",
       "      <th>customerID</th>\n",
       "      <th>gender</th>\n",
       "      <th>SeniorCitizen</th>\n",
       "      <th>Partner</th>\n",
       "      <th>Dependents</th>\n",
       "      <th>tenure</th>\n",
       "      <th>PhoneService</th>\n",
       "      <th>MultipleLines</th>\n",
       "      <th>InternetService</th>\n",
       "      <th>OnlineSecurity</th>\n",
       "      <th>...</th>\n",
       "      <th>DeviceProtection</th>\n",
       "      <th>TechSupport</th>\n",
       "      <th>StreamingTV</th>\n",
       "      <th>StreamingMovies</th>\n",
       "      <th>Contract</th>\n",
       "      <th>PaperlessBilling</th>\n",
       "      <th>PaymentMethod</th>\n",
       "      <th>MonthlyCharges</th>\n",
       "      <th>TotalCharges</th>\n",
       "      <th>Churn</th>\n",
       "    </tr>\n",
       "  </thead>\n",
       "  <tbody>\n",
       "    <tr>\n",
       "      <th>0</th>\n",
       "      <td>7590-VHVEG</td>\n",
       "      <td>Female</td>\n",
       "      <td>0</td>\n",
       "      <td>Yes</td>\n",
       "      <td>No</td>\n",
       "      <td>1</td>\n",
       "      <td>No</td>\n",
       "      <td>No phone service</td>\n",
       "      <td>DSL</td>\n",
       "      <td>No</td>\n",
       "      <td>...</td>\n",
       "      <td>No</td>\n",
       "      <td>No</td>\n",
       "      <td>No</td>\n",
       "      <td>No</td>\n",
       "      <td>Month-to-month</td>\n",
       "      <td>Yes</td>\n",
       "      <td>Electronic check</td>\n",
       "      <td>29.85</td>\n",
       "      <td>29.85</td>\n",
       "      <td>No</td>\n",
       "    </tr>\n",
       "    <tr>\n",
       "      <th>1</th>\n",
       "      <td>5575-GNVDE</td>\n",
       "      <td>Male</td>\n",
       "      <td>0</td>\n",
       "      <td>No</td>\n",
       "      <td>No</td>\n",
       "      <td>34</td>\n",
       "      <td>Yes</td>\n",
       "      <td>No</td>\n",
       "      <td>DSL</td>\n",
       "      <td>Yes</td>\n",
       "      <td>...</td>\n",
       "      <td>Yes</td>\n",
       "      <td>No</td>\n",
       "      <td>No</td>\n",
       "      <td>No</td>\n",
       "      <td>One year</td>\n",
       "      <td>No</td>\n",
       "      <td>Mailed check</td>\n",
       "      <td>56.95</td>\n",
       "      <td>1889.50</td>\n",
       "      <td>No</td>\n",
       "    </tr>\n",
       "    <tr>\n",
       "      <th>2</th>\n",
       "      <td>3668-QPYBK</td>\n",
       "      <td>Male</td>\n",
       "      <td>0</td>\n",
       "      <td>No</td>\n",
       "      <td>No</td>\n",
       "      <td>2</td>\n",
       "      <td>Yes</td>\n",
       "      <td>No</td>\n",
       "      <td>DSL</td>\n",
       "      <td>Yes</td>\n",
       "      <td>...</td>\n",
       "      <td>No</td>\n",
       "      <td>No</td>\n",
       "      <td>No</td>\n",
       "      <td>No</td>\n",
       "      <td>Month-to-month</td>\n",
       "      <td>Yes</td>\n",
       "      <td>Mailed check</td>\n",
       "      <td>53.85</td>\n",
       "      <td>108.15</td>\n",
       "      <td>Yes</td>\n",
       "    </tr>\n",
       "    <tr>\n",
       "      <th>3</th>\n",
       "      <td>7795-CFOCW</td>\n",
       "      <td>Male</td>\n",
       "      <td>0</td>\n",
       "      <td>No</td>\n",
       "      <td>No</td>\n",
       "      <td>45</td>\n",
       "      <td>No</td>\n",
       "      <td>No phone service</td>\n",
       "      <td>DSL</td>\n",
       "      <td>Yes</td>\n",
       "      <td>...</td>\n",
       "      <td>Yes</td>\n",
       "      <td>Yes</td>\n",
       "      <td>No</td>\n",
       "      <td>No</td>\n",
       "      <td>One year</td>\n",
       "      <td>No</td>\n",
       "      <td>Bank transfer (automatic)</td>\n",
       "      <td>42.30</td>\n",
       "      <td>1840.75</td>\n",
       "      <td>No</td>\n",
       "    </tr>\n",
       "    <tr>\n",
       "      <th>4</th>\n",
       "      <td>9237-HQITU</td>\n",
       "      <td>Female</td>\n",
       "      <td>0</td>\n",
       "      <td>No</td>\n",
       "      <td>No</td>\n",
       "      <td>2</td>\n",
       "      <td>Yes</td>\n",
       "      <td>No</td>\n",
       "      <td>Fiber optic</td>\n",
       "      <td>No</td>\n",
       "      <td>...</td>\n",
       "      <td>No</td>\n",
       "      <td>No</td>\n",
       "      <td>No</td>\n",
       "      <td>No</td>\n",
       "      <td>Month-to-month</td>\n",
       "      <td>Yes</td>\n",
       "      <td>Electronic check</td>\n",
       "      <td>70.70</td>\n",
       "      <td>151.65</td>\n",
       "      <td>Yes</td>\n",
       "    </tr>\n",
       "  </tbody>\n",
       "</table>\n",
       "<p>5 rows × 21 columns</p>\n",
       "</div>"
      ],
      "text/plain": [
       "   customerID  gender SeniorCitizen Partner Dependents  tenure PhoneService  \\\n",
       "0  7590-VHVEG  Female             0     Yes         No       1           No   \n",
       "1  5575-GNVDE    Male             0      No         No      34          Yes   \n",
       "2  3668-QPYBK    Male             0      No         No       2          Yes   \n",
       "3  7795-CFOCW    Male             0      No         No      45           No   \n",
       "4  9237-HQITU  Female             0      No         No       2          Yes   \n",
       "\n",
       "      MultipleLines InternetService OnlineSecurity  ... DeviceProtection  \\\n",
       "0  No phone service             DSL             No  ...               No   \n",
       "1                No             DSL            Yes  ...              Yes   \n",
       "2                No             DSL            Yes  ...               No   \n",
       "3  No phone service             DSL            Yes  ...              Yes   \n",
       "4                No     Fiber optic             No  ...               No   \n",
       "\n",
       "  TechSupport StreamingTV StreamingMovies        Contract PaperlessBilling  \\\n",
       "0          No          No              No  Month-to-month              Yes   \n",
       "1          No          No              No        One year               No   \n",
       "2          No          No              No  Month-to-month              Yes   \n",
       "3         Yes          No              No        One year               No   \n",
       "4          No          No              No  Month-to-month              Yes   \n",
       "\n",
       "               PaymentMethod MonthlyCharges  TotalCharges  Churn  \n",
       "0           Electronic check          29.85         29.85     No  \n",
       "1               Mailed check          56.95       1889.50     No  \n",
       "2               Mailed check          53.85        108.15    Yes  \n",
       "3  Bank transfer (automatic)          42.30       1840.75     No  \n",
       "4           Electronic check          70.70        151.65    Yes  \n",
       "\n",
       "[5 rows x 21 columns]"
      ]
     },
     "execution_count": 64,
     "metadata": {},
     "output_type": "execute_result"
    }
   ],
   "source": [
    "raw_data.head()"
   ]
  },
  {
   "cell_type": "code",
   "execution_count": 65,
   "id": "43a89150",
   "metadata": {},
   "outputs": [],
   "source": [
    "raw_data['Num of Services'] = temp_data['Num of Services']"
   ]
  },
  {
   "cell_type": "markdown",
   "id": "8d63345d",
   "metadata": {},
   "source": [
    "Drop những feature không quan trọng"
   ]
  },
  {
   "cell_type": "code",
   "execution_count": 66,
   "id": "9b8c579a",
   "metadata": {},
   "outputs": [],
   "source": [
    "raw_data.drop(['customerID', 'gender'], axis=1, inplace=True)"
   ]
  },
  {
   "cell_type": "markdown",
   "id": "59940c3e",
   "metadata": {},
   "source": [
    "Xử lý features"
   ]
  },
  {
   "cell_type": "code",
   "execution_count": 67,
   "id": "3b903cc7",
   "metadata": {},
   "outputs": [],
   "source": [
    "categorical_features = ['SeniorCitizen', 'Partner', 'Dependents', 'PhoneService', 'MultipleLines', 'InternetService', 'OnlineSecurity', 'OnlineBackup', 'DeviceProtection', 'TechSupport', 'StreamingTV', 'StreamingMovies', 'Contract', 'PaperlessBilling', 'PaymentMethod']\n",
    "numerical_features = ['tenure', 'MonthlyCharges', 'TotalCharges', 'Num of Services']\n",
    "\n",
    "data = pd.get_dummies(raw_data, columns=categorical_features, drop_first=True)\n",
    "data['Churn'] = data['Churn'].map({'No':0, 'Yes':1})"
   ]
  },
  {
   "cell_type": "code",
   "execution_count": 68,
   "id": "5da65f38",
   "metadata": {},
   "outputs": [
    {
     "data": {
      "text/plain": [
       "((7043, 30), (7043,))"
      ]
     },
     "execution_count": 68,
     "metadata": {},
     "output_type": "execute_result"
    }
   ],
   "source": [
    "X = data.drop('Churn', axis=1)\n",
    "y = data['Churn']\n",
    "\n",
    "X.shape, y.shape"
   ]
  },
  {
   "cell_type": "markdown",
   "id": "b54d137f",
   "metadata": {},
   "source": [
    "##### Huấn luyện model với data thông thường"
   ]
  },
  {
   "cell_type": "code",
   "execution_count": 69,
   "id": "5ee175aa",
   "metadata": {},
   "outputs": [],
   "source": [
    "X_train, X_test, y_train, y_test = train_test_split(X, y, test_size=0.2, random_state=1713)\n",
    "\n",
    "scaler = MinMaxScaler()\n",
    "X_train[numerical_features] = scaler.fit_transform(X_train[numerical_features])\n",
    "X_test[numerical_features] = scaler.transform(X_test[numerical_features])"
   ]
  },
  {
   "cell_type": "markdown",
   "id": "2b029d00",
   "metadata": {},
   "source": [
    "##### LogisticRegression"
   ]
  },
  {
   "cell_type": "code",
   "execution_count": 70,
   "id": "fda0630c",
   "metadata": {},
   "outputs": [
    {
     "name": "stdout",
     "output_type": "stream",
     "text": [
      "              precision    recall  f1-score   support\n",
      "\n",
      "           0       0.90      0.84      0.87      1106\n",
      "           1       0.52      0.64      0.58       303\n",
      "\n",
      "    accuracy                           0.80      1409\n",
      "   macro avg       0.71      0.74      0.72      1409\n",
      "weighted avg       0.82      0.80      0.80      1409\n",
      "\n"
     ]
    }
   ],
   "source": [
    "logistic_model = LogisticRegression(solver='lbfgs', max_iter=1000)\n",
    "logistic_model.fit(X_train, y_train)\n",
    "\n",
    "logistic_y_pred = logistic_model.predict(X_test)\n",
    "print(classification_report(logistic_y_pred, y_test))"
   ]
  },
  {
   "cell_type": "markdown",
   "id": "5155243b",
   "metadata": {},
   "source": [
    "##### RandomForestClassifier"
   ]
  },
  {
   "cell_type": "code",
   "execution_count": 71,
   "id": "63e06a8e",
   "metadata": {},
   "outputs": [
    {
     "name": "stdout",
     "output_type": "stream",
     "text": [
      "              precision    recall  f1-score   support\n",
      "\n",
      "           0       0.88      0.83      0.85      1102\n",
      "           1       0.49      0.60      0.54       307\n",
      "\n",
      "    accuracy                           0.78      1409\n",
      "   macro avg       0.69      0.72      0.70      1409\n",
      "weighted avg       0.80      0.78      0.79      1409\n",
      "\n"
     ]
    }
   ],
   "source": [
    "rfc_model = RandomForestClassifier(n_estimators=600)\n",
    "rfc_model.fit(X_train, y_train)\n",
    "\n",
    "rfc_y_pred = rfc_model.predict(X_test)\n",
    "print(classification_report(rfc_y_pred, y_test))"
   ]
  },
  {
   "cell_type": "markdown",
   "id": "6e75b794",
   "metadata": {},
   "source": [
    "##### GradientBoostingClassifier"
   ]
  },
  {
   "cell_type": "code",
   "execution_count": 72,
   "id": "063455f9",
   "metadata": {},
   "outputs": [
    {
     "name": "stdout",
     "output_type": "stream",
     "text": [
      "              precision    recall  f1-score   support\n",
      "\n",
      "           0       0.91      0.83      0.87      1132\n",
      "           1       0.48      0.65      0.56       277\n",
      "\n",
      "    accuracy                           0.79      1409\n",
      "   macro avg       0.70      0.74      0.71      1409\n",
      "weighted avg       0.82      0.79      0.81      1409\n",
      "\n"
     ]
    }
   ],
   "source": [
    "gbc_model = GradientBoostingClassifier(n_estimators=600, learning_rate=0.01, random_state=1713)\n",
    "gbc_model.fit(X_train, y_train)\n",
    "\n",
    "gbc_y_pred = gbc_model.predict(X_test)\n",
    "print(classification_report(gbc_y_pred, y_test))"
   ]
  },
  {
   "cell_type": "markdown",
   "id": "80827b6e",
   "metadata": {},
   "source": [
    "## Xử lý dữ liệu không cân bằng"
   ]
  },
  {
   "cell_type": "code",
   "execution_count": 73,
   "id": "9c20a7ef",
   "metadata": {},
   "outputs": [
    {
     "data": {
      "text/plain": [
       "0    0.73463\n",
       "1    0.26537\n",
       "Name: Churn, dtype: float64"
      ]
     },
     "execution_count": 73,
     "metadata": {},
     "output_type": "execute_result"
    }
   ],
   "source": [
    "data['Churn'].value_counts(normalize=True)"
   ]
  },
  {
   "cell_type": "markdown",
   "id": "77de4026",
   "metadata": {},
   "source": [
    "Dữ liệu bị mất cân bằng nhẹ với `73.46%` thuộc về class Non-Churn và `26.54%` thuộc về class còn lại"
   ]
  },
  {
   "cell_type": "markdown",
   "id": "1c938d56",
   "metadata": {},
   "source": [
    "### Under_sampling - NearMiss"
   ]
  },
  {
   "cell_type": "code",
   "execution_count": 74,
   "id": "90f74388",
   "metadata": {},
   "outputs": [
    {
     "data": {
      "text/plain": [
       "((3738, 30), (3738,))"
      ]
     },
     "execution_count": 74,
     "metadata": {},
     "output_type": "execute_result"
    }
   ],
   "source": [
    "nm = NearMiss()\n",
    "\n",
    "X_nm, y_nm = nm.fit_resample(X, y)\n",
    "X_nm.shape, y_nm.shape"
   ]
  },
  {
   "cell_type": "code",
   "execution_count": 75,
   "id": "3f00b890",
   "metadata": {},
   "outputs": [
    {
     "data": {
      "text/plain": [
       "((2990, 30), (748, 30))"
      ]
     },
     "execution_count": 75,
     "metadata": {},
     "output_type": "execute_result"
    }
   ],
   "source": [
    "X_train, X_test, y_train, y_test = train_test_split(X_nm, y_nm, test_size=0.2, random_state=1713)\n",
    "\n",
    "scaler = MinMaxScaler()\n",
    "X_train[numerical_features] = scaler.fit_transform(X_train[numerical_features])\n",
    "X_test[numerical_features] = scaler.transform(X_test[numerical_features])\n",
    "\n",
    "X_train.shape, X_test.shape"
   ]
  },
  {
   "cell_type": "markdown",
   "id": "06646463",
   "metadata": {},
   "source": [
    "##### LogisticRegression"
   ]
  },
  {
   "cell_type": "code",
   "execution_count": 76,
   "id": "88d2235c",
   "metadata": {},
   "outputs": [
    {
     "name": "stdout",
     "output_type": "stream",
     "text": [
      "              precision    recall  f1-score   support\n",
      "\n",
      "           0       0.60      0.67      0.63       319\n",
      "           1       0.73      0.66      0.70       429\n",
      "\n",
      "    accuracy                           0.67       748\n",
      "   macro avg       0.66      0.67      0.66       748\n",
      "weighted avg       0.67      0.67      0.67       748\n",
      "\n"
     ]
    }
   ],
   "source": [
    "logistic_model = LogisticRegression()\n",
    "logistic_model.fit(X_train, y_train)\n",
    "\n",
    "logistic_y_pred = logistic_model.predict(X_test)\n",
    "print(classification_report(logistic_y_pred, y_test))"
   ]
  },
  {
   "cell_type": "markdown",
   "id": "18135e0f",
   "metadata": {},
   "source": [
    "##### RandomForestClassifier"
   ]
  },
  {
   "cell_type": "code",
   "execution_count": 77,
   "id": "c251e0cd",
   "metadata": {},
   "outputs": [
    {
     "name": "stdout",
     "output_type": "stream",
     "text": [
      "              precision    recall  f1-score   support\n",
      "\n",
      "           0       0.62      0.63      0.62       356\n",
      "           1       0.66      0.66      0.66       392\n",
      "\n",
      "    accuracy                           0.64       748\n",
      "   macro avg       0.64      0.64      0.64       748\n",
      "weighted avg       0.64      0.64      0.64       748\n",
      "\n"
     ]
    }
   ],
   "source": [
    "rfc_model = RandomForestClassifier(n_estimators=600)\n",
    "rfc_model.fit(X_train, y_train)\n",
    "\n",
    "rfc_y_pred = rfc_model.predict(X_test)\n",
    "print(classification_report(rfc_y_pred, y_test))"
   ]
  },
  {
   "cell_type": "markdown",
   "id": "45b7137d",
   "metadata": {},
   "source": [
    "##### GradientBoostingClassifier"
   ]
  },
  {
   "cell_type": "code",
   "execution_count": 78,
   "id": "40e83e23",
   "metadata": {},
   "outputs": [
    {
     "name": "stdout",
     "output_type": "stream",
     "text": [
      "              precision    recall  f1-score   support\n",
      "\n",
      "           0       0.63      0.67      0.65       337\n",
      "           1       0.72      0.68      0.70       411\n",
      "\n",
      "    accuracy                           0.68       748\n",
      "   macro avg       0.68      0.68      0.68       748\n",
      "weighted avg       0.68      0.68      0.68       748\n",
      "\n"
     ]
    }
   ],
   "source": [
    "gbc_model = GradientBoostingClassifier(n_estimators=600, learning_rate=0.01, random_state=1713)\n",
    "gbc_model.fit(X_train, y_train)\n",
    "\n",
    "gbc_y_pred = gbc_model.predict(X_test)\n",
    "print(classification_report(gbc_y_pred, y_test))"
   ]
  },
  {
   "cell_type": "markdown",
   "id": "de4433e6",
   "metadata": {},
   "source": [
    "### Over_sampling"
   ]
  },
  {
   "cell_type": "markdown",
   "id": "c19ad0bb",
   "metadata": {},
   "source": [
    "#### SMOTE"
   ]
  },
  {
   "cell_type": "code",
   "execution_count": 79,
   "id": "dc1e0910",
   "metadata": {},
   "outputs": [
    {
     "data": {
      "text/plain": [
       "((10348, 30), (10348,))"
      ]
     },
     "execution_count": 79,
     "metadata": {},
     "output_type": "execute_result"
    }
   ],
   "source": [
    "smote = SMOTE()\n",
    "\n",
    "X_smote, y_smote = smote.fit_resample(X, y)\n",
    "X_smote.shape, y_smote.shape"
   ]
  },
  {
   "cell_type": "code",
   "execution_count": 80,
   "id": "2994de66",
   "metadata": {},
   "outputs": [
    {
     "data": {
      "text/plain": [
       "((8278, 30), (2070, 30))"
      ]
     },
     "execution_count": 80,
     "metadata": {},
     "output_type": "execute_result"
    }
   ],
   "source": [
    "X_train, X_test, y_train, y_test = train_test_split(X_smote, y_smote, test_size=0.2, random_state=1713)\n",
    "\n",
    "scaler = MinMaxScaler()\n",
    "X_train[numerical_features] = scaler.fit_transform(X_train[numerical_features])\n",
    "X_test[numerical_features] = scaler.transform(X_test[numerical_features])\n",
    "\n",
    "X_train.shape, X_test.shape"
   ]
  },
  {
   "cell_type": "markdown",
   "id": "185795e2",
   "metadata": {},
   "source": [
    "##### LogisticRegression"
   ]
  },
  {
   "cell_type": "code",
   "execution_count": 81,
   "id": "8a5c09c3",
   "metadata": {},
   "outputs": [
    {
     "name": "stdout",
     "output_type": "stream",
     "text": [
      "              precision    recall  f1-score   support\n",
      "\n",
      "           0       0.82      0.84      0.83       979\n",
      "           1       0.86      0.84      0.85      1091\n",
      "\n",
      "    accuracy                           0.84      2070\n",
      "   macro avg       0.84      0.84      0.84      2070\n",
      "weighted avg       0.84      0.84      0.84      2070\n",
      "\n"
     ]
    },
    {
     "name": "stderr",
     "output_type": "stream",
     "text": [
      "D:\\STUDY AI\\Anaconda\\lib\\site-packages\\sklearn\\linear_model\\_logistic.py:444: ConvergenceWarning: lbfgs failed to converge (status=1):\n",
      "STOP: TOTAL NO. of ITERATIONS REACHED LIMIT.\n",
      "\n",
      "Increase the number of iterations (max_iter) or scale the data as shown in:\n",
      "    https://scikit-learn.org/stable/modules/preprocessing.html\n",
      "Please also refer to the documentation for alternative solver options:\n",
      "    https://scikit-learn.org/stable/modules/linear_model.html#logistic-regression\n",
      "  n_iter_i = _check_optimize_result(\n"
     ]
    }
   ],
   "source": [
    "logistic_model = LogisticRegression()\n",
    "logistic_model.fit(X_train, y_train)\n",
    "\n",
    "logistic_y_pred = logistic_model.predict(X_test)\n",
    "print(classification_report(logistic_y_pred, y_test))"
   ]
  },
  {
   "cell_type": "markdown",
   "id": "3bea5777",
   "metadata": {},
   "source": [
    "##### RandomForestClassifier"
   ]
  },
  {
   "cell_type": "code",
   "execution_count": 82,
   "id": "3c4be731",
   "metadata": {},
   "outputs": [
    {
     "name": "stdout",
     "output_type": "stream",
     "text": [
      "              precision    recall  f1-score   support\n",
      "\n",
      "           0       0.83      0.83      0.83       996\n",
      "           1       0.84      0.84      0.84      1074\n",
      "\n",
      "    accuracy                           0.84      2070\n",
      "   macro avg       0.84      0.84      0.84      2070\n",
      "weighted avg       0.84      0.84      0.84      2070\n",
      "\n"
     ]
    }
   ],
   "source": [
    "rfc_model = RandomForestClassifier(n_estimators=600)\n",
    "rfc_model.fit(X_train, y_train)\n",
    "\n",
    "rfc_y_pred = rfc_model.predict(X_test)\n",
    "print(classification_report(rfc_y_pred, y_test))"
   ]
  },
  {
   "cell_type": "markdown",
   "id": "ff5dadaf",
   "metadata": {},
   "source": [
    "##### GradientBoostingClassifier"
   ]
  },
  {
   "cell_type": "code",
   "execution_count": 83,
   "id": "b13fe969",
   "metadata": {},
   "outputs": [
    {
     "name": "stdout",
     "output_type": "stream",
     "text": [
      "              precision    recall  f1-score   support\n",
      "\n",
      "           0       0.78      0.84      0.81       931\n",
      "           1       0.86      0.81      0.83      1139\n",
      "\n",
      "    accuracy                           0.82      2070\n",
      "   macro avg       0.82      0.82      0.82      2070\n",
      "weighted avg       0.83      0.82      0.82      2070\n",
      "\n"
     ]
    }
   ],
   "source": [
    "gbc_model = GradientBoostingClassifier(n_estimators=600, learning_rate=0.01, random_state=1713)\n",
    "gbc_model.fit(X_train, y_train)\n",
    "\n",
    "gbc_y_pred = gbc_model.predict(X_test)\n",
    "print(classification_report(gbc_y_pred, y_test))"
   ]
  },
  {
   "cell_type": "markdown",
   "id": "6e9668c3",
   "metadata": {},
   "source": [
    "#### RandomOverSampler"
   ]
  },
  {
   "cell_type": "code",
   "execution_count": 84,
   "id": "deaa62f2",
   "metadata": {},
   "outputs": [
    {
     "data": {
      "text/plain": [
       "((10348, 30), (10348,))"
      ]
     },
     "execution_count": 84,
     "metadata": {},
     "output_type": "execute_result"
    }
   ],
   "source": [
    "ros = RandomOverSampler()\n",
    "\n",
    "X_ros, y_ros = ros.fit_resample(X, y)\n",
    "X_ros.shape, y_ros.shape"
   ]
  },
  {
   "cell_type": "code",
   "execution_count": 85,
   "id": "a359ef81",
   "metadata": {},
   "outputs": [
    {
     "data": {
      "text/plain": [
       "((8278, 30), (2070, 30))"
      ]
     },
     "execution_count": 85,
     "metadata": {},
     "output_type": "execute_result"
    }
   ],
   "source": [
    "X_train, X_test, y_train, y_test = train_test_split(X_ros, y_ros, test_size=0.2, random_state=1713)\n",
    "\n",
    "scaler = MinMaxScaler()\n",
    "X_train[numerical_features] = scaler.fit_transform(X_train[numerical_features])\n",
    "X_test[numerical_features] = scaler.transform(X_test[numerical_features])\n",
    "\n",
    "X_train.shape, X_test.shape"
   ]
  },
  {
   "cell_type": "markdown",
   "id": "3048da23",
   "metadata": {},
   "source": [
    "##### LogisticRegression"
   ]
  },
  {
   "cell_type": "code",
   "execution_count": 86,
   "id": "cbe18f2e",
   "metadata": {},
   "outputs": [
    {
     "name": "stdout",
     "output_type": "stream",
     "text": [
      "              precision    recall  f1-score   support\n",
      "\n",
      "           0       0.73      0.79      0.76       922\n",
      "           1       0.82      0.76      0.79      1148\n",
      "\n",
      "    accuracy                           0.77      2070\n",
      "   macro avg       0.77      0.78      0.77      2070\n",
      "weighted avg       0.78      0.77      0.78      2070\n",
      "\n"
     ]
    },
    {
     "name": "stderr",
     "output_type": "stream",
     "text": [
      "D:\\STUDY AI\\Anaconda\\lib\\site-packages\\sklearn\\linear_model\\_logistic.py:444: ConvergenceWarning: lbfgs failed to converge (status=1):\n",
      "STOP: TOTAL NO. of ITERATIONS REACHED LIMIT.\n",
      "\n",
      "Increase the number of iterations (max_iter) or scale the data as shown in:\n",
      "    https://scikit-learn.org/stable/modules/preprocessing.html\n",
      "Please also refer to the documentation for alternative solver options:\n",
      "    https://scikit-learn.org/stable/modules/linear_model.html#logistic-regression\n",
      "  n_iter_i = _check_optimize_result(\n"
     ]
    }
   ],
   "source": [
    "logistic_model = LogisticRegression()\n",
    "logistic_model.fit(X_train, y_train)\n",
    "\n",
    "logistic_y_pred = logistic_model.predict(X_test)\n",
    "print(classification_report(logistic_y_pred, y_test))"
   ]
  },
  {
   "cell_type": "markdown",
   "id": "8b7fca87",
   "metadata": {},
   "source": [
    "##### RandomForestClassifier"
   ]
  },
  {
   "cell_type": "code",
   "execution_count": 87,
   "id": "738e6b25",
   "metadata": {},
   "outputs": [
    {
     "name": "stdout",
     "output_type": "stream",
     "text": [
      "              precision    recall  f1-score   support\n",
      "\n",
      "           0       0.83      0.95      0.89       879\n",
      "           1       0.96      0.86      0.91      1191\n",
      "\n",
      "    accuracy                           0.90      2070\n",
      "   macro avg       0.90      0.91      0.90      2070\n",
      "weighted avg       0.91      0.90      0.90      2070\n",
      "\n"
     ]
    }
   ],
   "source": [
    "rfc_model = RandomForestClassifier(n_estimators=600)\n",
    "rfc_model.fit(X_train, y_train)\n",
    "\n",
    "rfc_y_pred = rfc_model.predict(X_test)\n",
    "print(classification_report(rfc_y_pred, y_test))"
   ]
  },
  {
   "cell_type": "markdown",
   "id": "5e4d1c44",
   "metadata": {},
   "source": [
    "##### GradientBoostingClassifier"
   ]
  },
  {
   "cell_type": "code",
   "execution_count": 88,
   "id": "7319acce",
   "metadata": {},
   "outputs": [
    {
     "name": "stdout",
     "output_type": "stream",
     "text": [
      "              precision    recall  f1-score   support\n",
      "\n",
      "           0       0.74      0.82      0.77       906\n",
      "           1       0.84      0.77      0.81      1164\n",
      "\n",
      "    accuracy                           0.79      2070\n",
      "   macro avg       0.79      0.79      0.79      2070\n",
      "weighted avg       0.80      0.79      0.79      2070\n",
      "\n"
     ]
    }
   ],
   "source": [
    "gbc_model = GradientBoostingClassifier(n_estimators=600, learning_rate=0.01, random_state=1713)\n",
    "gbc_model.fit(X_train, y_train)\n",
    "\n",
    "gbc_y_pred = gbc_model.predict(X_test)\n",
    "print(classification_report(gbc_y_pred, y_test))"
   ]
  }
 ],
 "metadata": {
  "kernelspec": {
   "display_name": "Python 3 (ipykernel)",
   "language": "python",
   "name": "python3"
  },
  "language_info": {
   "codemirror_mode": {
    "name": "ipython",
    "version": 3
   },
   "file_extension": ".py",
   "mimetype": "text/x-python",
   "name": "python",
   "nbconvert_exporter": "python",
   "pygments_lexer": "ipython3",
   "version": "3.8.11"
  }
 },
 "nbformat": 4,
 "nbformat_minor": 5
}
